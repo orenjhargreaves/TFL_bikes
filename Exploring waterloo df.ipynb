{
 "cells": [
  {
   "cell_type": "code",
   "execution_count": 1,
   "id": "4accef87-50c2-4130-a029-9c55d4c53a57",
   "metadata": {
    "tags": []
   },
   "outputs": [],
   "source": [
    "import boto3\n",
    "import pickle\n",
    "import matplotlib as plt\n",
    "import pandas as pd\n",
    "\n",
    "import statsmodels.formula.api as smf\n",
    "from sklearn.preprocessing import StandardScaler\n",
    "import matplotlib.dates as mdates\n",
    "\n",
    "%matplotlib inline"
   ]
  },
  {
   "cell_type": "code",
   "execution_count": 2,
   "id": "a82a0f36-de32-4047-9afd-9478c7210fb5",
   "metadata": {
    "tags": []
   },
   "outputs": [],
   "source": [
    "bucket_name = 'tfl-cycle-data'\n",
    "s3_file_path = 'Docking_station_data/Waterloo-Jan2016-Apr2024.pkl'\n",
    "notebook_file_path = 'temp/Waterloo-Jan2016-Apr2024.pkl'\n",
    "s3 = boto3.client('s3')\n",
    "\n",
    "s3.download_file(bucket_name, s3_file_path, notebook_file_path)"
   ]
  },
  {
   "cell_type": "code",
   "execution_count": 3,
   "id": "7a744554-ca0c-4804-bf5c-1411d298a7c5",
   "metadata": {
    "tags": []
   },
   "outputs": [],
   "source": [
    "with open(notebook_file_path, 'rb') as f:\n",
    "    waterloo_df = pickle.load(f)"
   ]
  },
  {
   "cell_type": "code",
   "execution_count": 4,
   "id": "dd44c8b9-5f2b-48bb-b706-d615c629a008",
   "metadata": {
    "tags": []
   },
   "outputs": [
    {
     "data": {
      "text/html": [
       "<div>\n",
       "<style scoped>\n",
       "    .dataframe tbody tr th:only-of-type {\n",
       "        vertical-align: middle;\n",
       "    }\n",
       "\n",
       "    .dataframe tbody tr th {\n",
       "        vertical-align: top;\n",
       "    }\n",
       "\n",
       "    .dataframe thead th {\n",
       "        text-align: right;\n",
       "    }\n",
       "</style>\n",
       "<table border=\"1\" class=\"dataframe\">\n",
       "  <thead>\n",
       "    <tr style=\"text-align: right;\">\n",
       "      <th></th>\n",
       "      <th>Rental ID</th>\n",
       "      <th>Start Date</th>\n",
       "      <th>Start Station Name</th>\n",
       "      <th>End Date</th>\n",
       "      <th>End Station Name</th>\n",
       "    </tr>\n",
       "  </thead>\n",
       "  <tbody>\n",
       "    <tr>\n",
       "      <th>0</th>\n",
       "      <td>50755276</td>\n",
       "      <td>2016-10-01 08:41:00</td>\n",
       "      <td>William IV Street, Strand</td>\n",
       "      <td>2016-10-01 08:47:00</td>\n",
       "      <td>Waterloo Station 3, Waterloo</td>\n",
       "    </tr>\n",
       "    <tr>\n",
       "      <th>1</th>\n",
       "      <td>50755420</td>\n",
       "      <td>2016-10-01 09:05:00</td>\n",
       "      <td>Bermondsey Street, Bermondsey</td>\n",
       "      <td>2016-10-01 09:15:00</td>\n",
       "      <td>Waterloo Station 3, Waterloo</td>\n",
       "    </tr>\n",
       "    <tr>\n",
       "      <th>2</th>\n",
       "      <td>50755598</td>\n",
       "      <td>2016-10-01 09:28:00</td>\n",
       "      <td>Lollard Street, Vauxhall</td>\n",
       "      <td>2016-10-01 09:36:00</td>\n",
       "      <td>Waterloo Station 3, Waterloo</td>\n",
       "    </tr>\n",
       "    <tr>\n",
       "      <th>3</th>\n",
       "      <td>50755603</td>\n",
       "      <td>2016-10-01 09:28:00</td>\n",
       "      <td>Lollard Street, Vauxhall</td>\n",
       "      <td>2016-10-01 09:36:00</td>\n",
       "      <td>Waterloo Station 3, Waterloo</td>\n",
       "    </tr>\n",
       "    <tr>\n",
       "      <th>4</th>\n",
       "      <td>50756101</td>\n",
       "      <td>2016-10-01 10:12:00</td>\n",
       "      <td>Waterloo Station 3, Waterloo</td>\n",
       "      <td>2016-10-01 10:27:00</td>\n",
       "      <td>Braham Street, Aldgate</td>\n",
       "    </tr>\n",
       "  </tbody>\n",
       "</table>\n",
       "</div>"
      ],
      "text/plain": [
       "   Rental ID          Start Date             Start Station Name  \\\n",
       "0   50755276 2016-10-01 08:41:00      William IV Street, Strand   \n",
       "1   50755420 2016-10-01 09:05:00  Bermondsey Street, Bermondsey   \n",
       "2   50755598 2016-10-01 09:28:00       Lollard Street, Vauxhall   \n",
       "3   50755603 2016-10-01 09:28:00       Lollard Street, Vauxhall   \n",
       "4   50756101 2016-10-01 10:12:00   Waterloo Station 3, Waterloo   \n",
       "\n",
       "             End Date              End Station Name  \n",
       "0 2016-10-01 08:47:00  Waterloo Station 3, Waterloo  \n",
       "1 2016-10-01 09:15:00  Waterloo Station 3, Waterloo  \n",
       "2 2016-10-01 09:36:00  Waterloo Station 3, Waterloo  \n",
       "3 2016-10-01 09:36:00  Waterloo Station 3, Waterloo  \n",
       "4 2016-10-01 10:27:00        Braham Street, Aldgate  "
      ]
     },
     "execution_count": 4,
     "metadata": {},
     "output_type": "execute_result"
    }
   ],
   "source": [
    "waterloo_df.head()"
   ]
  },
  {
   "cell_type": "code",
   "execution_count": 5,
   "id": "6ff8d3f1-88c0-4727-bc6f-598e78e41626",
   "metadata": {
    "tags": []
   },
   "outputs": [
    {
     "data": {
      "text/html": [
       "<div>\n",
       "<style scoped>\n",
       "    .dataframe tbody tr th:only-of-type {\n",
       "        vertical-align: middle;\n",
       "    }\n",
       "\n",
       "    .dataframe tbody tr th {\n",
       "        vertical-align: top;\n",
       "    }\n",
       "\n",
       "    .dataframe thead th {\n",
       "        text-align: right;\n",
       "    }\n",
       "</style>\n",
       "<table border=\"1\" class=\"dataframe\">\n",
       "  <thead>\n",
       "    <tr style=\"text-align: right;\">\n",
       "      <th></th>\n",
       "      <th>Rental ID</th>\n",
       "      <th>Start Date</th>\n",
       "      <th>Start Station Name</th>\n",
       "      <th>End Date</th>\n",
       "      <th>End Station Name</th>\n",
       "    </tr>\n",
       "  </thead>\n",
       "  <tbody>\n",
       "    <tr>\n",
       "      <th>4</th>\n",
       "      <td>50756101</td>\n",
       "      <td>2016-10-01 10:12:00</td>\n",
       "      <td>Waterloo Station 3, Waterloo</td>\n",
       "      <td>2016-10-01 10:27:00</td>\n",
       "      <td>Braham Street, Aldgate</td>\n",
       "    </tr>\n",
       "    <tr>\n",
       "      <th>7</th>\n",
       "      <td>50758609</td>\n",
       "      <td>2016-10-01 12:24:00</td>\n",
       "      <td>Waterloo Station 3, Waterloo</td>\n",
       "      <td>2016-10-01 12:39:00</td>\n",
       "      <td>Kennington Oval, Oval</td>\n",
       "    </tr>\n",
       "    <tr>\n",
       "      <th>8</th>\n",
       "      <td>50759951</td>\n",
       "      <td>2016-10-01 13:10:00</td>\n",
       "      <td>Waterloo Station 3, Waterloo</td>\n",
       "      <td>2016-10-01 13:56:00</td>\n",
       "      <td>Eversholt Street , Camden Town</td>\n",
       "    </tr>\n",
       "    <tr>\n",
       "      <th>9</th>\n",
       "      <td>50759954</td>\n",
       "      <td>2016-10-01 13:10:00</td>\n",
       "      <td>Waterloo Station 3, Waterloo</td>\n",
       "      <td>2016-10-01 13:56:00</td>\n",
       "      <td>Eversholt Street , Camden Town</td>\n",
       "    </tr>\n",
       "    <tr>\n",
       "      <th>10</th>\n",
       "      <td>50759977</td>\n",
       "      <td>2016-10-01 13:11:00</td>\n",
       "      <td>Waterloo Station 3, Waterloo</td>\n",
       "      <td>2016-10-01 13:56:00</td>\n",
       "      <td>Eversholt Street , Camden Town</td>\n",
       "    </tr>\n",
       "  </tbody>\n",
       "</table>\n",
       "</div>"
      ],
      "text/plain": [
       "    Rental ID          Start Date            Start Station Name  \\\n",
       "4    50756101 2016-10-01 10:12:00  Waterloo Station 3, Waterloo   \n",
       "7    50758609 2016-10-01 12:24:00  Waterloo Station 3, Waterloo   \n",
       "8    50759951 2016-10-01 13:10:00  Waterloo Station 3, Waterloo   \n",
       "9    50759954 2016-10-01 13:10:00  Waterloo Station 3, Waterloo   \n",
       "10   50759977 2016-10-01 13:11:00  Waterloo Station 3, Waterloo   \n",
       "\n",
       "              End Date                End Station Name  \n",
       "4  2016-10-01 10:27:00          Braham Street, Aldgate  \n",
       "7  2016-10-01 12:39:00           Kennington Oval, Oval  \n",
       "8  2016-10-01 13:56:00  Eversholt Street , Camden Town  \n",
       "9  2016-10-01 13:56:00  Eversholt Street , Camden Town  \n",
       "10 2016-10-01 13:56:00  Eversholt Street , Camden Town  "
      ]
     },
     "execution_count": 5,
     "metadata": {},
     "output_type": "execute_result"
    }
   ],
   "source": [
    "waterloo_df_out = waterloo_df[waterloo_df['Start Station Name'] == 'Waterloo Station 3, Waterloo']\n",
    "waterloo_df_in = waterloo_df[waterloo_df['End Station Name'] == 'Waterloo Station 3, Waterloo']\n",
    "\n",
    "waterloo_df_out.head()"
   ]
  },
  {
   "cell_type": "code",
   "execution_count": 6,
   "id": "862ccdac-c8ac-4fb3-9e2f-aeb4c61d7443",
   "metadata": {
    "tags": []
   },
   "outputs": [
    {
     "data": {
      "text/html": [
       "<div>\n",
       "<style scoped>\n",
       "    .dataframe tbody tr th:only-of-type {\n",
       "        vertical-align: middle;\n",
       "    }\n",
       "\n",
       "    .dataframe tbody tr th {\n",
       "        vertical-align: top;\n",
       "    }\n",
       "\n",
       "    .dataframe thead th {\n",
       "        text-align: right;\n",
       "    }\n",
       "</style>\n",
       "<table border=\"1\" class=\"dataframe\">\n",
       "  <thead>\n",
       "    <tr style=\"text-align: right;\">\n",
       "      <th></th>\n",
       "      <th>Start Date</th>\n",
       "      <th>Rentals</th>\n",
       "    </tr>\n",
       "  </thead>\n",
       "  <tbody>\n",
       "    <tr>\n",
       "      <th>0</th>\n",
       "      <td>2015-01-02 01:45:00</td>\n",
       "      <td>1</td>\n",
       "    </tr>\n",
       "    <tr>\n",
       "      <th>1</th>\n",
       "      <td>2015-01-02 01:50:00</td>\n",
       "      <td>0</td>\n",
       "    </tr>\n",
       "    <tr>\n",
       "      <th>2</th>\n",
       "      <td>2015-01-02 01:55:00</td>\n",
       "      <td>0</td>\n",
       "    </tr>\n",
       "    <tr>\n",
       "      <th>3</th>\n",
       "      <td>2015-01-02 02:00:00</td>\n",
       "      <td>0</td>\n",
       "    </tr>\n",
       "    <tr>\n",
       "      <th>4</th>\n",
       "      <td>2015-01-02 02:05:00</td>\n",
       "      <td>0</td>\n",
       "    </tr>\n",
       "    <tr>\n",
       "      <th>5</th>\n",
       "      <td>2015-01-02 02:10:00</td>\n",
       "      <td>0</td>\n",
       "    </tr>\n",
       "    <tr>\n",
       "      <th>6</th>\n",
       "      <td>2015-01-02 02:15:00</td>\n",
       "      <td>0</td>\n",
       "    </tr>\n",
       "    <tr>\n",
       "      <th>7</th>\n",
       "      <td>2015-01-02 02:20:00</td>\n",
       "      <td>0</td>\n",
       "    </tr>\n",
       "    <tr>\n",
       "      <th>8</th>\n",
       "      <td>2015-01-02 02:25:00</td>\n",
       "      <td>0</td>\n",
       "    </tr>\n",
       "    <tr>\n",
       "      <th>9</th>\n",
       "      <td>2015-01-02 02:30:00</td>\n",
       "      <td>0</td>\n",
       "    </tr>\n",
       "  </tbody>\n",
       "</table>\n",
       "</div>"
      ],
      "text/plain": [
       "           Start Date  Rentals\n",
       "0 2015-01-02 01:45:00        1\n",
       "1 2015-01-02 01:50:00        0\n",
       "2 2015-01-02 01:55:00        0\n",
       "3 2015-01-02 02:00:00        0\n",
       "4 2015-01-02 02:05:00        0\n",
       "5 2015-01-02 02:10:00        0\n",
       "6 2015-01-02 02:15:00        0\n",
       "7 2015-01-02 02:20:00        0\n",
       "8 2015-01-02 02:25:00        0\n",
       "9 2015-01-02 02:30:00        0"
      ]
     },
     "execution_count": 6,
     "metadata": {},
     "output_type": "execute_result"
    }
   ],
   "source": [
    "waterloo_df_out = waterloo_df[waterloo_df['Start Station Name'] == 'Waterloo Station 3, Waterloo']\n",
    "\n",
    "waterloo_df_out.set_index('Start Date', inplace=True)\n",
    "rentals_5min = waterloo_df_out.resample('5min').size().reset_index(name='Rentals')\n",
    "\n",
    "rentals_5min.head(10)"
   ]
  },
  {
   "cell_type": "code",
   "execution_count": 7,
   "id": "6cfa5012-b326-4e70-bca4-4b8cf1f18673",
   "metadata": {
    "tags": []
   },
   "outputs": [
    {
     "data": {
      "text/plain": [
       "<Axes: xlabel='Start Date', ylabel='Rentals'>"
      ]
     },
     "execution_count": 7,
     "metadata": {},
     "output_type": "execute_result"
    },
    {
     "data": {
      "image/png": "[encoded data removed]",
      "text/plain": [
       "<Figure size 640x480 with 1 Axes>"
      ]
     },
     "metadata": {},
     "output_type": "display_data"
    }
   ],
   "source": [
    "\n",
    "rentals_5min.plot.scatter(x='Start Date', y='Rentals')"
   ]
  },
  {
   "cell_type": "code",
   "execution_count": 8,
   "id": "15189254-29b6-40cd-86f7-5cceeab6e99a",
   "metadata": {
    "tags": []
   },
   "outputs": [
    {
     "data": {
      "text/html": [
       "<div>\n",
       "<style scoped>\n",
       "    .dataframe tbody tr th:only-of-type {\n",
       "        vertical-align: middle;\n",
       "    }\n",
       "\n",
       "    .dataframe tbody tr th {\n",
       "        vertical-align: top;\n",
       "    }\n",
       "\n",
       "    .dataframe thead th {\n",
       "        text-align: right;\n",
       "    }\n",
       "</style>\n",
       "<table border=\"1\" class=\"dataframe\">\n",
       "  <thead>\n",
       "    <tr style=\"text-align: right;\">\n",
       "      <th></th>\n",
       "      <th>Start Date</th>\n",
       "      <th>Rentals</th>\n",
       "      <th>Time_Interval</th>\n",
       "      <th>Time_Interval_Std</th>\n",
       "    </tr>\n",
       "  </thead>\n",
       "  <tbody>\n",
       "    <tr>\n",
       "      <th>0</th>\n",
       "      <td>2015-01-02 01:45:00</td>\n",
       "      <td>1</td>\n",
       "      <td>0.0</td>\n",
       "      <td>-1.732049</td>\n",
       "    </tr>\n",
       "    <tr>\n",
       "      <th>1</th>\n",
       "      <td>2015-01-02 01:50:00</td>\n",
       "      <td>0</td>\n",
       "      <td>5.0</td>\n",
       "      <td>-1.732046</td>\n",
       "    </tr>\n",
       "    <tr>\n",
       "      <th>2</th>\n",
       "      <td>2015-01-02 01:55:00</td>\n",
       "      <td>0</td>\n",
       "      <td>10.0</td>\n",
       "      <td>-1.732042</td>\n",
       "    </tr>\n",
       "    <tr>\n",
       "      <th>3</th>\n",
       "      <td>2015-01-02 02:00:00</td>\n",
       "      <td>0</td>\n",
       "      <td>15.0</td>\n",
       "      <td>-1.732038</td>\n",
       "    </tr>\n",
       "    <tr>\n",
       "      <th>4</th>\n",
       "      <td>2015-01-02 02:05:00</td>\n",
       "      <td>0</td>\n",
       "      <td>20.0</td>\n",
       "      <td>-1.732035</td>\n",
       "    </tr>\n",
       "  </tbody>\n",
       "</table>\n",
       "</div>"
      ],
      "text/plain": [
       "           Start Date  Rentals  Time_Interval  Time_Interval_Std\n",
       "0 2015-01-02 01:45:00        1            0.0          -1.732049\n",
       "1 2015-01-02 01:50:00        0            5.0          -1.732046\n",
       "2 2015-01-02 01:55:00        0           10.0          -1.732042\n",
       "3 2015-01-02 02:00:00        0           15.0          -1.732038\n",
       "4 2015-01-02 02:05:00        0           20.0          -1.732035"
      ]
     },
     "execution_count": 8,
     "metadata": {},
     "output_type": "execute_result"
    }
   ],
   "source": [
    "rentals_5min['Time_Interval'] = (rentals_5min['Start Date'] - rentals_5min['Start Date'].min()).dt.total_seconds() / 60\n",
    "scaler = StandardScaler()\n",
    "rentals_5min['Time_Interval_Std'] = scaler.fit_transform(rentals_5min[['Time_Interval']])\n",
    "\n",
    "rentals_5min.head()"
   ]
  },
  {
   "cell_type": "markdown",
   "id": "79363e53-80ea-4758-9a91-1c079119e24a",
   "metadata": {},
   "source": [
    "### Below are failed experiments to model using poisson model - I think multivariate?"
   ]
  },
  {
   "cell_type": "code",
   "execution_count": 9,
   "id": "b2a37347-3a6c-4dc2-9876-98555ccf171f",
   "metadata": {
    "tags": []
   },
   "outputs": [],
   "source": [
    "# # Fitting the Poisson regression model\n",
    "# poisson_model = smf.poisson('Rentals ~ Time_Interval_Std', data=rentals_5min).fit()"
   ]
  },
  {
   "cell_type": "code",
   "execution_count": 10,
   "id": "5ee27054-671e-4510-97b3-2d5575898afa",
   "metadata": {
    "tags": []
   },
   "outputs": [],
   "source": [
    "# # Displaying the summary of the model\n",
    "# poisson_model_std_summary = poisson_model.summary()\n",
    "# print(poisson_model_std_summary)"
   ]
  },
  {
   "cell_type": "code",
   "execution_count": 11,
   "id": "095fb4d0-8c8d-4653-bff5-f0d488914b4f",
   "metadata": {
    "tags": []
   },
   "outputs": [],
   "source": [
    "# # Create future time intervals for the next 24 hours\n",
    "# future_intervals = pd.date_range(start=rentals_5min['Start Date'].max(), periods=24*12, freq='5min')\n",
    "# future_intervals_df = pd.DataFrame({'Start Date': future_intervals})\n",
    "\n",
    "# # Standardize the future intervals\n",
    "# future_intervals_df['Time_Interval'] = (future_intervals_df['Start Date'] - rentals_5min['Start Date'].min()).dt.total_seconds() / 60\n",
    "# future_intervals_df['Time_Interval_Std'] = scaler.transform(future_intervals_df[['Time_Interval']])\n",
    "\n",
    "# # Predict the rental rates for future intervals\n",
    "# future_intervals_df['Predicted_Rentals'] = poisson_model.predict(future_intervals_df[['Time_Interval_Std']])\n",
    "# future_intervals_df.head()"
   ]
  },
  {
   "cell_type": "code",
   "execution_count": 12,
   "id": "4ad0280e-3daa-4696-b1e8-a375100d8011",
   "metadata": {
    "tags": []
   },
   "outputs": [],
   "source": [
    "# future_intervals_df.plot.scatter(x='Start Date', y='Predicted_Rentals')"
   ]
  },
  {
   "cell_type": "code",
   "execution_count": 13,
   "id": "dc94fdab-1533-489c-94b3-d7a5b53d6a4e",
   "metadata": {
    "tags": []
   },
   "outputs": [],
   "source": [
    "# # Add hour and day of the week to the dataset\n",
    "# rentals_5min['Hour'] = rentals_5min['Start Date'].dt.hour\n",
    "# rentals_5min['Day_of_Week'] = rentals_5min['Start Date'].dt.dayofweek\n",
    "\n",
    "# # Fitting the Poisson regression model with new features\n",
    "# poisson_model_aug = smf.poisson('Rentals ~ Time_Interval_Std + C(Hour) + C(Day_of_Week)', data=rentals_5min).fit()\n",
    "\n",
    "# # Displaying the summary of the model\n",
    "# poisson_model_aug_summary = poisson_model_aug.summary()\n",
    "# print(poisson_model_aug_summary)"
   ]
  },
  {
   "cell_type": "code",
   "execution_count": 14,
   "id": "a053bcf2-bf9a-4c73-8c0e-107c6adc7ae3",
   "metadata": {
    "tags": []
   },
   "outputs": [],
   "source": [
    "# # Create future time intervals for the next 24 hours\n",
    "# future_intervals = pd.date_range(start=rentals_5min['Start Date'].max(), periods=24*12, freq='5min')\n",
    "# future_intervals_df = pd.DataFrame({'Start Date': future_intervals})\n",
    "# future_intervals_df['Hour'] = future_intervals_df['Start Date'].dt.hour\n",
    "# future_intervals_df['Day_of_Week'] = future_intervals_df['Start Date'].dt.dayofweek\n",
    "\n",
    "# # Standardize the future intervals\n",
    "# future_intervals_df['Time_Interval'] = (future_intervals_df['Start Date'] - rentals_5min['Start Date'].min()).dt.total_seconds() / 60\n",
    "# future_intervals_df['Time_Interval_Std'] = scaler.transform(future_intervals_df[['Time_Interval']])\n",
    "\n",
    "# # Predict the rental rates for future intervals\n",
    "# future_intervals_df['Predicted_Rentals'] = poisson_model_aug.predict(future_intervals_df[['Time_Interval_Std', 'Hour', 'Day_of_Week']])\n",
    "# future_intervals_df.head()"
   ]
  },
  {
   "cell_type": "code",
   "execution_count": 15,
   "id": "d25be242-a5d7-447c-a3e8-a9d58c8338e7",
   "metadata": {
    "tags": []
   },
   "outputs": [],
   "source": [
    "# future_intervals_df.plot.scatter(x='Start Date', y='Predicted_Rentals')"
   ]
  },
  {
   "cell_type": "code",
   "execution_count": 16,
   "id": "09172ac9-62d8-4b97-8e60-2978021afa8e",
   "metadata": {
    "tags": []
   },
   "outputs": [],
   "source": [
    "# import statsmodels.api as sm\n",
    "\n",
    "# # Define the minimum and maximum values for the x-axis\n",
    "# xmin = pd.to_datetime('2024-05-01 06:00')\n",
    "# xmax = pd.to_datetime('2024-05-01 12:00')\n",
    "\n",
    "# # Convert these dates to numerical format for setting limits\n",
    "# xmin_numeric = mdates.date2num(xmin)\n",
    "# xmax_numeric = mdates.date2num(xmax)\n",
    "\n",
    "# # Convert Start Date to numerical format for plotting\n",
    "# future_intervals_df['Start Date Numeric'] = mdates.date2num(future_intervals_df['Start Date'])\n",
    "\n",
    "# # Create the plot\n",
    "# plt.figure(figsize=(12, 6))\n",
    "# sns.scatterplot(x='Start Date', y='Predicted_Rentals', data=future_intervals_df, label='Predicted Rentals')\n",
    "\n",
    "# # Adding a smooth line using LOWESS (Locally Weighted Scatterplot Smoothing)\n",
    "# lowess = sm.nonparametric.lowess\n",
    "# smoothed = lowess(future_intervals_df['Predicted_Rentals'], future_intervals_df['Start Date Numeric'], frac=0.1)\n",
    "\n",
    "# plt.plot(mdates.num2date(smoothed[:, 0]), smoothed[:, 1], color='red', label='Trend Line')\n",
    "\n",
    "# # Add title and labels\n",
    "# plt.title('Predicted Rentals Over Time')\n",
    "# plt.xlabel('Start Date')\n",
    "# plt.ylabel('Predicted Rentals')\n",
    "# plt.legend()\n",
    "\n",
    "# # Rotate x-axis labels for better readability\n",
    "# plt.xticks(rotation=45)\n",
    "\n",
    "# # Set x-axis limits\n",
    "# plt.gca().set_xlim(xmin, xmax)\n",
    "\n",
    "# # Format x-axis to show dates\n",
    "# plt.gca().xaxis.set_major_formatter(mdates.DateFormatter('%Y-%m-%d %H:%M'))\n",
    "# plt.gca().xaxis.set_major_locator(mdates.HourLocator(interval=6))\n",
    "\n",
    "# # Show the plot\n",
    "# plt.show()"
   ]
  },
  {
   "cell_type": "markdown",
   "id": "51c1fc2f-9b26-487e-bb85-749672c2da58",
   "metadata": {},
   "source": [
    "I THINK IT MAY BE BREAKING BECAUSE THERE ARE TOO MANY PARAMETERS IE ONE FOR EVERY 5 MINUTE PERIOD IN 24 HOURS - 720. ANOTHER MODELING METHOD REQUIRED!"
   ]
  },
  {
   "cell_type": "code",
   "execution_count": null,
   "id": "ad8351d4-0d2e-4d56-9381-1f57c88fddce",
   "metadata": {
    "tags": []
   },
   "outputs": [],
   "source": [
    "# # Add hour and day of the week to the dataset\n",
    "# rentals_5min['Day_of_Week'] = rentals_5min['Start Date'].dt.dayofweek\n",
    "# rentals_5min['Hour'] = rentals_5min['Start Date'].dt.hour\n",
    "# rentals_5min['Minute'] = rentals_5min['Start Date'].dt.minute\n",
    "# rentals_5min['MinuteHour'] = 60*rentals_5min['Hour'].astype(int) + rentals_5min['Minute'].astype(int)\n",
    "\n",
    "# # Ensure Hour and Day_of_Week are categories\n",
    "# rentals_5min['Hour'] = rentals_5min['Hour'].astype('category')\n",
    "# rentals_5min['Day_of_Week'] = rentals_5min['Day_of_Week'].astype('category')\n",
    "# rentals_5min['Minute'] = rentals_5min['Minute'].astype('category')\n",
    "# rentals_5min['MinuteHour'] = rentals_5min['MinuteHour'].astype('category')\n",
    "\n",
    "# # # Create spline terms for the training data\n",
    "# # spline_features = dmatrix(\"cr(Time_Interval_Std, df=5) + C(Day_of_Week) + C(MinuteHour)\", data=rentals_5min, return_type='dataframe')\n",
    "# # response = rentals_5min['Rentals']\n",
    "\n",
    "# # # Fit the Poisson model\n",
    "# # poisson_model_spline = sm.GLM(response, spline_features, family=sm.families.Poisson()).fit()\n",
    "\n",
    "# # # Create spline terms for future intervals\n",
    "# # future_spline_features = dmatrix(\"cr(Time_Interval_Std, df=5) + C(Hour) + C(Day_of_Week) + C(Minute)\", data=future_intervals_df, return_type='dataframe')\n",
    "\n",
    "# # # Predict using the spline Poisson model\n",
    "# # future_intervals_df['Predicted_Rentals'] = poisson_model_spline.predict(future_spline_features)\n",
    "\n",
    "# # Fitting the Poisson regression model with new features\n",
    "# poisson_model_aug2 = smf.poisson('Rentals ~ Time_Interval_Std + C(Day_of_Week) + C(MinuteHour)', data=rentals_5min).fit()\n",
    "\n",
    "# # Displaying the summary of the model\n",
    "# poisson_model_aug_summary2 = poisson_model_aug2.summary()\n",
    "# print(poisson_model_aug_summary2)"
   ]
  },
  {
   "cell_type": "code",
   "execution_count": null,
   "id": "27d85a1e-dbfc-47f4-9114-e66dde0552de",
   "metadata": {
    "tags": []
   },
   "outputs": [],
   "source": [
    "# # Create future time intervals for the next 24 hours\n",
    "# future_intervals = pd.date_range(start=rentals_5min['Start Date'].max(), periods=24*12, freq='5min')\n",
    "# future_intervals_df = pd.DataFrame({'Start Date': future_intervals})\n",
    "# future_intervals_df['Hour'] = future_intervals_df['Start Date'].dt.hour\n",
    "# future_intervals_df['Day_of_Week'] = future_intervals_df['Start Date'].dt.dayofweek\n",
    "# future_intervals_df['Minute'] = future_intervals_df['Start Date'].dt.minute\n",
    "# future_intervals_df['MinuteHour'] = 60*future_intervals_df['Hour'].astype(int) + rentals_5min['Minute'].astype(int)\n",
    "\n",
    "# # Standardize the future intervals\n",
    "# future_intervals_df['Time_Interval'] = (future_intervals_df['Start Date'] - rentals_5min['Start Date'].min()).dt.total_seconds() / 60\n",
    "# future_intervals_df['Time_Interval_Std'] = scaler.transform(future_intervals_df[['Time_Interval']])\n",
    "\n",
    "# # Predict the rental rates for future intervals\n",
    "# future_intervals_df['Predicted_Rentals'] = poisson_model_aug2.predict(future_intervals_df[['Time_Interval_Std', 'Day_of_Week', 'MinuteHour']])\n",
    "# future_intervals_df.head()"
   ]
  },
  {
   "cell_type": "code",
   "execution_count": null,
   "id": "bcba677a-0676-4547-9f64-c56a9c9f7531",
   "metadata": {
    "tags": []
   },
   "outputs": [],
   "source": [
    "# import statsmodels.api as sm\n",
    "\n",
    "# # Define the minimum and maximum values for the x-axis\n",
    "# xmin = pd.to_datetime('2024-05-01 06:00')\n",
    "# xmax = pd.to_datetime('2024-05-01 12:00')\n",
    "\n",
    "# # Convert these dates to numerical format for setting limits\n",
    "# xmin_numeric = mdates.date2num(xmin)\n",
    "# xmax_numeric = mdates.date2num(xmax)\n",
    "\n",
    "# # Convert Start Date to numerical format for plotting\n",
    "# future_intervals_df['Start Date Numeric'] = mdates.date2num(future_intervals_df['Start Date'])\n",
    "\n",
    "# # Create the plot\n",
    "# plt.figure(figsize=(12, 6))\n",
    "# sns.scatterplot(x='Start Date', y='Predicted_Rentals', data=future_intervals_df, label='Predicted Rentals')\n",
    "\n",
    "# # Adding a smooth line using LOWESS (Locally Weighted Scatterplot Smoothing)\n",
    "# lowess = sm.nonparametric.lowess\n",
    "# smoothed = lowess(future_intervals_df['Predicted_Rentals'], future_intervals_df['Start Date Numeric'], frac=0.1)\n",
    "\n",
    "# plt.plot(mdates.num2date(smoothed[:, 0]), smoothed[:, 1], color='red', label='Trend Line')\n",
    "\n",
    "# # Add title and labels\n",
    "# plt.title('Predicted Rentals Over Time')\n",
    "# plt.xlabel('Start Date')\n",
    "# plt.ylabel('Predicted Rentals')\n",
    "# plt.legend()\n",
    "\n",
    "# # Rotate x-axis labels for better readability\n",
    "# plt.xticks(rotation=45)\n",
    "\n",
    "# # Set x-axis limits\n",
    "# plt.gca().set_xlim(xmin, xmax)\n",
    "\n",
    "# # Format x-axis to show dates\n",
    "# plt.gca().xaxis.set_major_formatter(mdates.DateFormatter('%Y-%m-%d %H:%M'))\n",
    "# plt.gca().xaxis.set_major_locator(mdates.HourLocator(interval=6))\n",
    "\n",
    "# # Show the plot\n",
    "# plt.show()"
   ]
  },
  {
   "cell_type": "code",
   "execution_count": null,
   "id": "4953caf5-7e6b-4844-b774-62322582717c",
   "metadata": {
    "tags": []
   },
   "outputs": [],
   "source": [
    "rentals_5min['MinuteHour'] = 60*rentals_5min['Hour'].astype(int) + rentals_5min['Minute'].astype(int)\n",
    "rentals_5min.head()"
   ]
  },
  {
   "cell_type": "code",
   "execution_count": null,
   "id": "fa6f823c-0bf4-45ca-bb2a-44bae902356b",
   "metadata": {},
   "outputs": [],
   "source": []
  },
  {
   "cell_type": "code",
   "execution_count": null,
   "id": "bb892135-47c2-4ebd-9ea7-42475a4456d6",
   "metadata": {},
   "outputs": [],
   "source": []
  },
  {
   "cell_type": "code",
   "execution_count": null,
   "id": "92e89adf-16b9-479d-a512-044a9c836411",
   "metadata": {},
   "outputs": [],
   "source": []
  },
  {
   "cell_type": "code",
   "execution_count": null,
   "id": "a959ba77-bcb6-4915-8cd9-0e5eaaaa07b2",
   "metadata": {},
   "outputs": [],
   "source": []
  }
 ],
 "metadata": {
  "kernelspec": {
   "display_name": "conda_python3",
   "language": "python",
   "name": "conda_python3"
  },
  "language_info": {
   "codemirror_mode": {
    "name": "ipython",
    "version": 3
   },
   "file_extension": ".py",
   "mimetype": "text/x-python",
   "name": "python",
   "nbconvert_exporter": "python",
   "pygments_lexer": "ipython3",
   "version": "3.10.14"
  }
 },
 "nbformat": 4,
 "nbformat_minor": 5
}
