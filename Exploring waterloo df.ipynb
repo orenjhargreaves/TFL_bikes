{
 "cells": [
  {
   "cell_type": "code",
   "execution_count": 37,
   "id": "4accef87-50c2-4130-a029-9c55d4c53a57",
   "metadata": {
    "tags": []
   },
   "outputs": [],
   "source": [
    "import boto3\n",
    "import pickle\n",
    "import matplotlib as plt\n",
    "import pandas as pd\n",
    "import numpy as np\n",
    "import seaborn as sns\n",
    "\n",
    "import statsmodels.formula.api as smf\n",
    "from sklearn.preprocessing import StandardScaler\n",
    "import matplotlib.dates as mdates\n",
    "import statsmodels.api as sm\n",
    "from patsy import dmatrix\n",
    "\n",
    "\n",
    "\n",
    "%matplotlib inline"
   ]
  },
  {
   "cell_type": "code",
   "execution_count": 4,
   "id": "a82a0f36-de32-4047-9afd-9478c7210fb5",
   "metadata": {
    "tags": []
   },
   "outputs": [],
   "source": [
    "bucket_name = 'tfl-cycle-data'\n",
    "s3_file_path = 'Docking_station_data/Waterloo-Jan2016-Apr2024.pkl'\n",
    "notebook_file_path = 'temp/Waterloo-Jan2016-Apr2024.pkl'\n",
    "s3 = boto3.client('s3')\n",
    "\n",
    "s3.download_file(bucket_name, s3_file_path, notebook_file_path)"
   ]
  },
  {
   "cell_type": "code",
   "execution_count": 5,
   "id": "7a744554-ca0c-4804-bf5c-1411d298a7c5",
   "metadata": {
    "tags": []
   },
   "outputs": [],
   "source": [
    "with open(notebook_file_path, 'rb') as f:\n",
    "    waterloo_df = pickle.load(f)"
   ]
  },
  {
   "cell_type": "code",
   "execution_count": 6,
   "id": "dd44c8b9-5f2b-48bb-b706-d615c629a008",
   "metadata": {
    "tags": []
   },
   "outputs": [
    {
     "data": {
      "text/html": [
       "<div>\n",
       "<style scoped>\n",
       "    .dataframe tbody tr th:only-of-type {\n",
       "        vertical-align: middle;\n",
       "    }\n",
       "\n",
       "    .dataframe tbody tr th {\n",
       "        vertical-align: top;\n",
       "    }\n",
       "\n",
       "    .dataframe thead th {\n",
       "        text-align: right;\n",
       "    }\n",
       "</style>\n",
       "<table border=\"1\" class=\"dataframe\">\n",
       "  <thead>\n",
       "    <tr style=\"text-align: right;\">\n",
       "      <th></th>\n",
       "      <th>Rental ID</th>\n",
       "      <th>Start Date</th>\n",
       "      <th>Start Station Name</th>\n",
       "      <th>End Date</th>\n",
       "      <th>End Station Name</th>\n",
       "    </tr>\n",
       "  </thead>\n",
       "  <tbody>\n",
       "    <tr>\n",
       "      <th>0</th>\n",
       "      <td>50755276</td>\n",
       "      <td>2016-10-01 08:41:00</td>\n",
       "      <td>William IV Street, Strand</td>\n",
       "      <td>2016-10-01 08:47:00</td>\n",
       "      <td>Waterloo Station 3, Waterloo</td>\n",
       "    </tr>\n",
       "    <tr>\n",
       "      <th>1</th>\n",
       "      <td>50755420</td>\n",
       "      <td>2016-10-01 09:05:00</td>\n",
       "      <td>Bermondsey Street, Bermondsey</td>\n",
       "      <td>2016-10-01 09:15:00</td>\n",
       "      <td>Waterloo Station 3, Waterloo</td>\n",
       "    </tr>\n",
       "    <tr>\n",
       "      <th>2</th>\n",
       "      <td>50755598</td>\n",
       "      <td>2016-10-01 09:28:00</td>\n",
       "      <td>Lollard Street, Vauxhall</td>\n",
       "      <td>2016-10-01 09:36:00</td>\n",
       "      <td>Waterloo Station 3, Waterloo</td>\n",
       "    </tr>\n",
       "    <tr>\n",
       "      <th>3</th>\n",
       "      <td>50755603</td>\n",
       "      <td>2016-10-01 09:28:00</td>\n",
       "      <td>Lollard Street, Vauxhall</td>\n",
       "      <td>2016-10-01 09:36:00</td>\n",
       "      <td>Waterloo Station 3, Waterloo</td>\n",
       "    </tr>\n",
       "    <tr>\n",
       "      <th>4</th>\n",
       "      <td>50756101</td>\n",
       "      <td>2016-10-01 10:12:00</td>\n",
       "      <td>Waterloo Station 3, Waterloo</td>\n",
       "      <td>2016-10-01 10:27:00</td>\n",
       "      <td>Braham Street, Aldgate</td>\n",
       "    </tr>\n",
       "  </tbody>\n",
       "</table>\n",
       "</div>"
      ],
      "text/plain": [
       "   Rental ID          Start Date             Start Station Name  \\\n",
       "0   50755276 2016-10-01 08:41:00      William IV Street, Strand   \n",
       "1   50755420 2016-10-01 09:05:00  Bermondsey Street, Bermondsey   \n",
       "2   50755598 2016-10-01 09:28:00       Lollard Street, Vauxhall   \n",
       "3   50755603 2016-10-01 09:28:00       Lollard Street, Vauxhall   \n",
       "4   50756101 2016-10-01 10:12:00   Waterloo Station 3, Waterloo   \n",
       "\n",
       "             End Date              End Station Name  \n",
       "0 2016-10-01 08:47:00  Waterloo Station 3, Waterloo  \n",
       "1 2016-10-01 09:15:00  Waterloo Station 3, Waterloo  \n",
       "2 2016-10-01 09:36:00  Waterloo Station 3, Waterloo  \n",
       "3 2016-10-01 09:36:00  Waterloo Station 3, Waterloo  \n",
       "4 2016-10-01 10:27:00        Braham Street, Aldgate  "
      ]
     },
     "execution_count": 6,
     "metadata": {},
     "output_type": "execute_result"
    }
   ],
   "source": [
    "waterloo_df.head()"
   ]
  },
  {
   "cell_type": "code",
   "execution_count": 7,
   "id": "6ff8d3f1-88c0-4727-bc6f-598e78e41626",
   "metadata": {
    "tags": []
   },
   "outputs": [
    {
     "data": {
      "text/html": [
       "<div>\n",
       "<style scoped>\n",
       "    .dataframe tbody tr th:only-of-type {\n",
       "        vertical-align: middle;\n",
       "    }\n",
       "\n",
       "    .dataframe tbody tr th {\n",
       "        vertical-align: top;\n",
       "    }\n",
       "\n",
       "    .dataframe thead th {\n",
       "        text-align: right;\n",
       "    }\n",
       "</style>\n",
       "<table border=\"1\" class=\"dataframe\">\n",
       "  <thead>\n",
       "    <tr style=\"text-align: right;\">\n",
       "      <th></th>\n",
       "      <th>Rental ID</th>\n",
       "      <th>Start Date</th>\n",
       "      <th>Start Station Name</th>\n",
       "      <th>End Date</th>\n",
       "      <th>End Station Name</th>\n",
       "    </tr>\n",
       "  </thead>\n",
       "  <tbody>\n",
       "    <tr>\n",
       "      <th>4</th>\n",
       "      <td>50756101</td>\n",
       "      <td>2016-10-01 10:12:00</td>\n",
       "      <td>Waterloo Station 3, Waterloo</td>\n",
       "      <td>2016-10-01 10:27:00</td>\n",
       "      <td>Braham Street, Aldgate</td>\n",
       "    </tr>\n",
       "    <tr>\n",
       "      <th>7</th>\n",
       "      <td>50758609</td>\n",
       "      <td>2016-10-01 12:24:00</td>\n",
       "      <td>Waterloo Station 3, Waterloo</td>\n",
       "      <td>2016-10-01 12:39:00</td>\n",
       "      <td>Kennington Oval, Oval</td>\n",
       "    </tr>\n",
       "    <tr>\n",
       "      <th>8</th>\n",
       "      <td>50759951</td>\n",
       "      <td>2016-10-01 13:10:00</td>\n",
       "      <td>Waterloo Station 3, Waterloo</td>\n",
       "      <td>2016-10-01 13:56:00</td>\n",
       "      <td>Eversholt Street , Camden Town</td>\n",
       "    </tr>\n",
       "    <tr>\n",
       "      <th>9</th>\n",
       "      <td>50759954</td>\n",
       "      <td>2016-10-01 13:10:00</td>\n",
       "      <td>Waterloo Station 3, Waterloo</td>\n",
       "      <td>2016-10-01 13:56:00</td>\n",
       "      <td>Eversholt Street , Camden Town</td>\n",
       "    </tr>\n",
       "    <tr>\n",
       "      <th>10</th>\n",
       "      <td>50759977</td>\n",
       "      <td>2016-10-01 13:11:00</td>\n",
       "      <td>Waterloo Station 3, Waterloo</td>\n",
       "      <td>2016-10-01 13:56:00</td>\n",
       "      <td>Eversholt Street , Camden Town</td>\n",
       "    </tr>\n",
       "  </tbody>\n",
       "</table>\n",
       "</div>"
      ],
      "text/plain": [
       "    Rental ID          Start Date            Start Station Name  \\\n",
       "4    50756101 2016-10-01 10:12:00  Waterloo Station 3, Waterloo   \n",
       "7    50758609 2016-10-01 12:24:00  Waterloo Station 3, Waterloo   \n",
       "8    50759951 2016-10-01 13:10:00  Waterloo Station 3, Waterloo   \n",
       "9    50759954 2016-10-01 13:10:00  Waterloo Station 3, Waterloo   \n",
       "10   50759977 2016-10-01 13:11:00  Waterloo Station 3, Waterloo   \n",
       "\n",
       "              End Date                End Station Name  \n",
       "4  2016-10-01 10:27:00          Braham Street, Aldgate  \n",
       "7  2016-10-01 12:39:00           Kennington Oval, Oval  \n",
       "8  2016-10-01 13:56:00  Eversholt Street , Camden Town  \n",
       "9  2016-10-01 13:56:00  Eversholt Street , Camden Town  \n",
       "10 2016-10-01 13:56:00  Eversholt Street , Camden Town  "
      ]
     },
     "execution_count": 7,
     "metadata": {},
     "output_type": "execute_result"
    }
   ],
   "source": [
    "waterloo_df_out = waterloo_df[waterloo_df['Start Station Name'] == 'Waterloo Station 3, Waterloo']\n",
    "waterloo_df_in = waterloo_df[waterloo_df['End Station Name'] == 'Waterloo Station 3, Waterloo']\n",
    "\n",
    "waterloo_df_out.head()"
   ]
  },
  {
   "cell_type": "code",
   "execution_count": 8,
   "id": "862ccdac-c8ac-4fb3-9e2f-aeb4c61d7443",
   "metadata": {
    "tags": []
   },
   "outputs": [
    {
     "data": {
      "text/html": [
       "<div>\n",
       "<style scoped>\n",
       "    .dataframe tbody tr th:only-of-type {\n",
       "        vertical-align: middle;\n",
       "    }\n",
       "\n",
       "    .dataframe tbody tr th {\n",
       "        vertical-align: top;\n",
       "    }\n",
       "\n",
       "    .dataframe thead th {\n",
       "        text-align: right;\n",
       "    }\n",
       "</style>\n",
       "<table border=\"1\" class=\"dataframe\">\n",
       "  <thead>\n",
       "    <tr style=\"text-align: right;\">\n",
       "      <th></th>\n",
       "      <th>Start Date</th>\n",
       "      <th>Rentals</th>\n",
       "    </tr>\n",
       "  </thead>\n",
       "  <tbody>\n",
       "    <tr>\n",
       "      <th>0</th>\n",
       "      <td>2015-01-02 01:45:00</td>\n",
       "      <td>1</td>\n",
       "    </tr>\n",
       "    <tr>\n",
       "      <th>1</th>\n",
       "      <td>2015-01-02 01:50:00</td>\n",
       "      <td>0</td>\n",
       "    </tr>\n",
       "    <tr>\n",
       "      <th>2</th>\n",
       "      <td>2015-01-02 01:55:00</td>\n",
       "      <td>0</td>\n",
       "    </tr>\n",
       "    <tr>\n",
       "      <th>3</th>\n",
       "      <td>2015-01-02 02:00:00</td>\n",
       "      <td>0</td>\n",
       "    </tr>\n",
       "    <tr>\n",
       "      <th>4</th>\n",
       "      <td>2015-01-02 02:05:00</td>\n",
       "      <td>0</td>\n",
       "    </tr>\n",
       "    <tr>\n",
       "      <th>5</th>\n",
       "      <td>2015-01-02 02:10:00</td>\n",
       "      <td>0</td>\n",
       "    </tr>\n",
       "    <tr>\n",
       "      <th>6</th>\n",
       "      <td>2015-01-02 02:15:00</td>\n",
       "      <td>0</td>\n",
       "    </tr>\n",
       "    <tr>\n",
       "      <th>7</th>\n",
       "      <td>2015-01-02 02:20:00</td>\n",
       "      <td>0</td>\n",
       "    </tr>\n",
       "    <tr>\n",
       "      <th>8</th>\n",
       "      <td>2015-01-02 02:25:00</td>\n",
       "      <td>0</td>\n",
       "    </tr>\n",
       "    <tr>\n",
       "      <th>9</th>\n",
       "      <td>2015-01-02 02:30:00</td>\n",
       "      <td>0</td>\n",
       "    </tr>\n",
       "  </tbody>\n",
       "</table>\n",
       "</div>"
      ],
      "text/plain": [
       "           Start Date  Rentals\n",
       "0 2015-01-02 01:45:00        1\n",
       "1 2015-01-02 01:50:00        0\n",
       "2 2015-01-02 01:55:00        0\n",
       "3 2015-01-02 02:00:00        0\n",
       "4 2015-01-02 02:05:00        0\n",
       "5 2015-01-02 02:10:00        0\n",
       "6 2015-01-02 02:15:00        0\n",
       "7 2015-01-02 02:20:00        0\n",
       "8 2015-01-02 02:25:00        0\n",
       "9 2015-01-02 02:30:00        0"
      ]
     },
     "execution_count": 8,
     "metadata": {},
     "output_type": "execute_result"
    }
   ],
   "source": [
    "waterloo_df_out = waterloo_df[waterloo_df['Start Station Name'] == 'Waterloo Station 3, Waterloo']\n",
    "\n",
    "waterloo_df_out.set_index('Start Date', inplace=True)\n",
    "rentals_5min = waterloo_df_out.resample('5min').size().reset_index(name='Rentals')\n",
    "\n",
    "rentals_5min.head(10)"
   ]
  },
  {
   "cell_type": "code",
   "execution_count": 9,
   "id": "6cfa5012-b326-4e70-bca4-4b8cf1f18673",
   "metadata": {
    "tags": []
   },
   "outputs": [
    {
     "data": {
      "text/plain": [
       "<Axes: xlabel='Start Date', ylabel='Rentals'>"
      ]
     },
     "execution_count": 9,
     "metadata": {},
     "output_type": "execute_result"
    },
    {
     "data": {
      "image/png": "[encoded data removed]",
      "text/plain": [
       "<Figure size 640x480 with 1 Axes>"
      ]
     },
     "metadata": {},
     "output_type": "display_data"
    }
   ],
   "source": [
    "rentals_5min.plot.scatter(x='Start Date', y='Rentals')"
   ]
  },
  {
   "cell_type": "code",
   "execution_count": 10,
   "id": "5b47bb04-c24a-46ba-828e-3b761fac026e",
   "metadata": {
    "tags": []
   },
   "outputs": [
    {
     "data": {
      "image/png": "[encoded data removed]",
      "text/plain": [
       "<Figure size 640x480 with 1 Axes>"
      ]
     },
     "metadata": {},
     "output_type": "display_data"
    }
   ],
   "source": [
    "ax = rentals_5min.plot.scatter(x='Start Date', y='Rentals')\n",
    "ax.set_xlim(pd.to_datetime('2022-06-07 05:00:00'), pd.to_datetime('2022-06-8 00:00:00'))\n",
    "ax.tick_params(axis='x', rotation=90)\n",
    "# plt.show()"
   ]
  },
  {
   "cell_type": "code",
   "execution_count": 11,
   "id": "15189254-29b6-40cd-86f7-5cceeab6e99a",
   "metadata": {
    "tags": []
   },
   "outputs": [
    {
     "data": {
      "text/html": [
       "<div>\n",
       "<style scoped>\n",
       "    .dataframe tbody tr th:only-of-type {\n",
       "        vertical-align: middle;\n",
       "    }\n",
       "\n",
       "    .dataframe tbody tr th {\n",
       "        vertical-align: top;\n",
       "    }\n",
       "\n",
       "    .dataframe thead th {\n",
       "        text-align: right;\n",
       "    }\n",
       "</style>\n",
       "<table border=\"1\" class=\"dataframe\">\n",
       "  <thead>\n",
       "    <tr style=\"text-align: right;\">\n",
       "      <th></th>\n",
       "      <th>Start Date</th>\n",
       "      <th>Rentals</th>\n",
       "      <th>Time_Interval</th>\n",
       "      <th>Time_Interval_Std</th>\n",
       "    </tr>\n",
       "  </thead>\n",
       "  <tbody>\n",
       "    <tr>\n",
       "      <th>0</th>\n",
       "      <td>2015-01-02 01:45:00</td>\n",
       "      <td>1</td>\n",
       "      <td>0.0</td>\n",
       "      <td>-1.732049</td>\n",
       "    </tr>\n",
       "    <tr>\n",
       "      <th>1</th>\n",
       "      <td>2015-01-02 01:50:00</td>\n",
       "      <td>0</td>\n",
       "      <td>5.0</td>\n",
       "      <td>-1.732046</td>\n",
       "    </tr>\n",
       "    <tr>\n",
       "      <th>2</th>\n",
       "      <td>2015-01-02 01:55:00</td>\n",
       "      <td>0</td>\n",
       "      <td>10.0</td>\n",
       "      <td>-1.732042</td>\n",
       "    </tr>\n",
       "    <tr>\n",
       "      <th>3</th>\n",
       "      <td>2015-01-02 02:00:00</td>\n",
       "      <td>0</td>\n",
       "      <td>15.0</td>\n",
       "      <td>-1.732038</td>\n",
       "    </tr>\n",
       "    <tr>\n",
       "      <th>4</th>\n",
       "      <td>2015-01-02 02:05:00</td>\n",
       "      <td>0</td>\n",
       "      <td>20.0</td>\n",
       "      <td>-1.732035</td>\n",
       "    </tr>\n",
       "  </tbody>\n",
       "</table>\n",
       "</div>"
      ],
      "text/plain": [
       "           Start Date  Rentals  Time_Interval  Time_Interval_Std\n",
       "0 2015-01-02 01:45:00        1            0.0          -1.732049\n",
       "1 2015-01-02 01:50:00        0            5.0          -1.732046\n",
       "2 2015-01-02 01:55:00        0           10.0          -1.732042\n",
       "3 2015-01-02 02:00:00        0           15.0          -1.732038\n",
       "4 2015-01-02 02:05:00        0           20.0          -1.732035"
      ]
     },
     "execution_count": 11,
     "metadata": {},
     "output_type": "execute_result"
    }
   ],
   "source": [
    "rentals_5min['Time_Interval'] = (rentals_5min['Start Date'] - rentals_5min['Start Date'].min()).dt.total_seconds() / 60\n",
    "scaler = StandardScaler()\n",
    "rentals_5min['Time_Interval_Std'] = scaler.fit_transform(rentals_5min[['Time_Interval']])\n",
    "\n",
    "rentals_5min.head()"
   ]
  },
  {
   "cell_type": "markdown",
   "id": "79363e53-80ea-4758-9a91-1c079119e24a",
   "metadata": {},
   "source": [
    "### Below are failed experiments to model using poisson model - I think multivariate?"
   ]
  },
  {
   "cell_type": "code",
   "execution_count": 12,
   "id": "b2a37347-3a6c-4dc2-9876-98555ccf171f",
   "metadata": {
    "tags": []
   },
   "outputs": [],
   "source": [
    "# # Fitting the Poisson regression model\n",
    "# poisson_model = smf.poisson('Rentals ~ Time_Interval_Std', data=rentals_5min).fit()"
   ]
  },
  {
   "cell_type": "code",
   "execution_count": 13,
   "id": "5ee27054-671e-4510-97b3-2d5575898afa",
   "metadata": {
    "tags": []
   },
   "outputs": [],
   "source": [
    "# # Displaying the summary of the model\n",
    "# poisson_model_std_summary = poisson_model.summary()\n",
    "# print(poisson_model_std_summary)"
   ]
  },
  {
   "cell_type": "code",
   "execution_count": 14,
   "id": "095fb4d0-8c8d-4653-bff5-f0d488914b4f",
   "metadata": {
    "tags": []
   },
   "outputs": [],
   "source": [
    "# # Create future time intervals for the next 24 hours\n",
    "# future_intervals = pd.date_range(start=rentals_5min['Start Date'].max(), periods=24*12, freq='5min')\n",
    "# future_intervals_df = pd.DataFrame({'Start Date': future_intervals})\n",
    "\n",
    "# # Standardize the future intervals\n",
    "# future_intervals_df['Time_Interval'] = (future_intervals_df['Start Date'] - rentals_5min['Start Date'].min()).dt.total_seconds() / 60\n",
    "# future_intervals_df['Time_Interval_Std'] = scaler.transform(future_intervals_df[['Time_Interval']])\n",
    "\n",
    "# # Predict the rental rates for future intervals\n",
    "# future_intervals_df['Predicted_Rentals'] = poisson_model.predict(future_intervals_df[['Time_Interval_Std']])\n",
    "# future_intervals_df.head()"
   ]
  },
  {
   "cell_type": "code",
   "execution_count": 15,
   "id": "4ad0280e-3daa-4696-b1e8-a375100d8011",
   "metadata": {
    "tags": []
   },
   "outputs": [],
   "source": [
    "# future_intervals_df.plot.scatter(x='Start Date', y='Predicted_Rentals')"
   ]
  },
  {
   "cell_type": "code",
   "execution_count": 16,
   "id": "dc94fdab-1533-489c-94b3-d7a5b53d6a4e",
   "metadata": {
    "tags": []
   },
   "outputs": [],
   "source": [
    "# # Add hour and day of the week to the dataset\n",
    "# rentals_5min['Hour'] = rentals_5min['Start Date'].dt.hour\n",
    "# rentals_5min['Day_of_Week'] = rentals_5min['Start Date'].dt.dayofweek\n",
    "\n",
    "# # Fitting the Poisson regression model with new features\n",
    "# poisson_model_aug = smf.poisson('Rentals ~ Time_Interval_Std + C(Hour) + C(Day_of_Week)', data=rentals_5min).fit()\n",
    "\n",
    "# # Displaying the summary of the model\n",
    "# poisson_model_aug_summary = poisson_model_aug.summary()\n",
    "# print(poisson_model_aug_summary)"
   ]
  },
  {
   "cell_type": "code",
   "execution_count": 17,
   "id": "a053bcf2-bf9a-4c73-8c0e-107c6adc7ae3",
   "metadata": {
    "tags": []
   },
   "outputs": [],
   "source": [
    "# # Create future time intervals for the next 24 hours\n",
    "# future_intervals = pd.date_range(start=rentals_5min['Start Date'].max(), periods=24*12, freq='5min')\n",
    "# future_intervals_df = pd.DataFrame({'Start Date': future_intervals})\n",
    "# future_intervals_df['Hour'] = future_intervals_df['Start Date'].dt.hour\n",
    "# future_intervals_df['Day_of_Week'] = future_intervals_df['Start Date'].dt.dayofweek\n",
    "\n",
    "# # Standardize the future intervals\n",
    "# future_intervals_df['Time_Interval'] = (future_intervals_df['Start Date'] - rentals_5min['Start Date'].min()).dt.total_seconds() / 60\n",
    "# future_intervals_df['Time_Interval_Std'] = scaler.transform(future_intervals_df[['Time_Interval']])\n",
    "\n",
    "# # Predict the rental rates for future intervals\n",
    "# future_intervals_df['Predicted_Rentals'] = poisson_model_aug.predict(future_intervals_df[['Time_Interval_Std', 'Hour', 'Day_of_Week']])\n",
    "# future_intervals_df.head()"
   ]
  },
  {
   "cell_type": "code",
   "execution_count": 18,
   "id": "d25be242-a5d7-447c-a3e8-a9d58c8338e7",
   "metadata": {
    "tags": []
   },
   "outputs": [],
   "source": [
    "# future_intervals_df.plot.scatter(x='Start Date', y='Predicted_Rentals')"
   ]
  },
  {
   "cell_type": "code",
   "execution_count": 19,
   "id": "09172ac9-62d8-4b97-8e60-2978021afa8e",
   "metadata": {
    "tags": []
   },
   "outputs": [],
   "source": [
    "# import statsmodels.api as sm\n",
    "\n",
    "# # Define the minimum and maximum values for the x-axis\n",
    "# xmin = pd.to_datetime('2024-05-01 06:00')\n",
    "# xmax = pd.to_datetime('2024-05-01 12:00')\n",
    "\n",
    "# # Convert these dates to numerical format for setting limits\n",
    "# xmin_numeric = mdates.date2num(xmin)\n",
    "# xmax_numeric = mdates.date2num(xmax)\n",
    "\n",
    "# # Convert Start Date to numerical format for plotting\n",
    "# future_intervals_df['Start Date Numeric'] = mdates.date2num(future_intervals_df['Start Date'])\n",
    "\n",
    "# # Create the plot\n",
    "# plt.figure(figsize=(12, 6))\n",
    "# sns.scatterplot(x='Start Date', y='Predicted_Rentals', data=future_intervals_df, label='Predicted Rentals')\n",
    "\n",
    "# # Adding a smooth line using LOWESS (Locally Weighted Scatterplot Smoothing)\n",
    "# lowess = sm.nonparametric.lowess\n",
    "# smoothed = lowess(future_intervals_df['Predicted_Rentals'], future_intervals_df['Start Date Numeric'], frac=0.1)\n",
    "\n",
    "# plt.plot(mdates.num2date(smoothed[:, 0]), smoothed[:, 1], color='red', label='Trend Line')\n",
    "\n",
    "# # Add title and labels\n",
    "# plt.title('Predicted Rentals Over Time')\n",
    "# plt.xlabel('Start Date')\n",
    "# plt.ylabel('Predicted Rentals')\n",
    "# plt.legend()\n",
    "\n",
    "# # Rotate x-axis labels for better readability\n",
    "# plt.xticks(rotation=45)\n",
    "\n",
    "# # Set x-axis limits\n",
    "# plt.gca().set_xlim(xmin, xmax)\n",
    "\n",
    "# # Format x-axis to show dates\n",
    "# plt.gca().xaxis.set_major_formatter(mdates.DateFormatter('%Y-%m-%d %H:%M'))\n",
    "# plt.gca().xaxis.set_major_locator(mdates.HourLocator(interval=6))\n",
    "\n",
    "# # Show the plot\n",
    "# plt.show()"
   ]
  },
  {
   "cell_type": "markdown",
   "id": "51c1fc2f-9b26-487e-bb85-749672c2da58",
   "metadata": {},
   "source": [
    "I THINK IT MAY BE BREAKING BECAUSE THERE ARE TOO MANY PARAMETERS IE ONE FOR EVERY 5 MINUTE PERIOD IN 24 HOURS - 720. ANOTHER MODELING METHOD REQUIRED!"
   ]
  },
  {
   "cell_type": "code",
   "execution_count": 20,
   "id": "ad8351d4-0d2e-4d56-9381-1f57c88fddce",
   "metadata": {
    "tags": []
   },
   "outputs": [],
   "source": [
    "# Add hour and day of the week to the dataset\n",
    "rentals_5min['Day_of_Week'] = rentals_5min['Start Date'].dt.dayofweek\n",
    "rentals_5min['Hour'] = rentals_5min['Start Date'].dt.hour\n",
    "rentals_5min['Minute'] = rentals_5min['Start Date'].dt.minute\n",
    "rentals_5min['MinuteHour'] = 60*rentals_5min['Hour'].astype(int) + rentals_5min['Minute'].astype(int)\n",
    "\n",
    "# Ensure Hour and Day_of_Week are categories\n",
    "rentals_5min['Hour'] = rentals_5min['Hour'].astype('category')\n",
    "rentals_5min['Day_of_Week'] = rentals_5min['Day_of_Week'].astype('category')\n",
    "rentals_5min['Minute'] = rentals_5min['Minute'].astype('category')\n",
    "rentals_5min['MinuteHour'] = rentals_5min['MinuteHour'].astype('category')\n",
    "\n",
    "\n",
    "\n"
   ]
  },
  {
   "cell_type": "code",
   "execution_count": 21,
   "id": "a0fd99e8-29e0-41c0-b718-1a7c050b0c8e",
   "metadata": {
    "tags": []
   },
   "outputs": [],
   "source": [
    "# # Create spline terms for the training data\n",
    "spline_features = dmatrix(\"cr(Time_Interval_Std, df=5) + C(Day_of_Week) + C(MinuteHour)\", data=rentals_5min, return_type='dataframe')\n",
    "response = rentals_5min['Rentals']"
   ]
  },
  {
   "cell_type": "code",
   "execution_count": 22,
   "id": "87c1acdd-62e6-4315-994d-138337a13f5f",
   "metadata": {
    "tags": []
   },
   "outputs": [
    {
     "name": "stdout",
     "output_type": "stream",
     "text": [
      "CPU Usage:  6.4 %\n",
      "Memory Usage:  26.3 %\n",
      "Disk Usage:  64.7 %\n"
     ]
    }
   ],
   "source": [
    "import psutil\n",
    "import time\n",
    "\n",
    "# Function to print current resource usage\n",
    "def print_system_usage():\n",
    "    print(\"CPU Usage: \", psutil.cpu_percent(), \"%\")\n",
    "    print(\"Memory Usage: \", psutil.virtual_memory().percent, \"%\")\n",
    "    print(\"Disk Usage: \", psutil.disk_usage('/').percent, \"%\")\n",
    "\n",
    "# Monitor resource usage\n",
    "print_system_usage()"
   ]
  },
  {
   "cell_type": "code",
   "execution_count": 24,
   "id": "b2736d1e-7f23-4114-bcd5-853d90fb544c",
   "metadata": {
    "tags": []
   },
   "outputs": [],
   "source": [
    "# Use a subset of the data for initial testing\n",
    "temporal_subset = rentals_5min.iloc[:len(rentals_5min) // 10]\n",
    "spline_features_subset = dmatrix(\"cr(Time_Interval_Std, df=5) + C(Day_of_Week) + C(MinuteHour)\", data=temporal_subset, return_type='dataframe')\n",
    "response_subset = temporal_subset['Rentals']"
   ]
  },
  {
   "cell_type": "code",
   "execution_count": 33,
   "id": "2258ff0d-b460-42c5-9482-1296b357217b",
   "metadata": {
    "tags": []
   },
   "outputs": [
    {
     "name": "stdout",
     "output_type": "stream",
     "text": [
      "Start Date           0\n",
      "Rentals              0\n",
      "Time_Interval        0\n",
      "Time_Interval_Std    0\n",
      "Day_of_Week          0\n",
      "Hour                 0\n",
      "Minute               0\n",
      "MinuteHour           0\n",
      "dtype: int64\n"
     ]
    },
    {
     "name": "stderr",
     "output_type": "stream",
     "text": [
      "/tmp/ipykernel_26930/3235277328.py:9: FutureWarning: DataFrame.applymap has been deprecated. Use DataFrame.map instead.\n",
      "  print(rentals_5min[numerical_cols].applymap(np.isinf).sum())\n"
     ]
    },
    {
     "name": "stdout",
     "output_type": "stream",
     "text": [
      "Rentals              0\n",
      "Time_Interval        0\n",
      "Time_Interval_Std    0\n",
      "dtype: int64\n"
     ]
    }
   ],
   "source": [
    "# Checking for NaN, inf or invald values\n",
    "# Check for NaN values\n",
    "print(rentals_5min.isna().sum())\n",
    "\n",
    "# Check for infinite values\n",
    "numerical_cols = rentals_5min.select_dtypes(include=[np.number]).columns\n",
    "\n",
    "# Check for infinite values in numerical columns\n",
    "print(rentals_5min[numerical_cols].applymap(np.isinf).sum())"
   ]
  },
  {
   "cell_type": "code",
   "execution_count": 36,
   "id": "f7c16927-4270-411f-bf6f-39eb91018573",
   "metadata": {
    "tags": []
   },
   "outputs": [
    {
     "data": {
      "text/plain": [
       "<Axes: >"
      ]
     },
     "execution_count": 36,
     "metadata": {},
     "output_type": "execute_result"
    },
    {
     "data": {
      "image/png": "[encoded data removed]",
      "text/plain": [
       "<Figure size 640x480 with 2 Axes>"
      ]
     },
     "metadata": {},
     "output_type": "display_data"
    }
   ],
   "source": [
    "# Calculate the correlation matrix\n",
    "correlation_matrix = rentals_5min.corr()\n",
    "\n",
    "# Plot the heatmap\n",
    "sns.heatmap(correlation_matrix, annot=True, cmap='coolwarm')"
   ]
  },
  {
   "cell_type": "code",
   "execution_count": 28,
   "id": "dde46e0f-2310-4304-ade0-e91db916de12",
   "metadata": {
    "tags": []
   },
   "outputs": [
    {
     "name": "stdout",
     "output_type": "stream",
     "text": [
      "<class 'pandas.core.frame.DataFrame'>\n",
      "RangeIndex: 98118 entries, 0 to 98117\n",
      "Data columns (total 8 columns):\n",
      " #   Column             Non-Null Count  Dtype         \n",
      "---  ------             --------------  -----         \n",
      " 0   Start Date         98118 non-null  datetime64[ns]\n",
      " 1   Rentals            98118 non-null  int64         \n",
      " 2   Time_Interval      98118 non-null  float64       \n",
      " 3   Time_Interval_Std  98118 non-null  float64       \n",
      " 4   Day_of_Week        98118 non-null  category      \n",
      " 5   Hour               98118 non-null  category      \n",
      " 6   Minute             98118 non-null  category      \n",
      " 7   MinuteHour         98118 non-null  category      \n",
      "dtypes: category(4), datetime64[ns](1), float64(2), int64(1)\n",
      "memory usage: 3.5 MB\n"
     ]
    }
   ],
   "source": [
    "temporal_subset.info()"
   ]
  },
  {
   "cell_type": "code",
   "execution_count": 29,
   "id": "d310a415-f351-4267-b773-016befc348af",
   "metadata": {
    "tags": []
   },
   "outputs": [
    {
     "name": "stderr",
     "output_type": "stream",
     "text": [
      "/home/ec2-user/anaconda3/envs/python3/lib/python3.10/site-packages/statsmodels/genmod/families/links.py:527: RuntimeWarning: overflow encountered in exp\n",
      "  return np.exp(z)\n",
      "/home/ec2-user/anaconda3/envs/python3/lib/python3.10/site-packages/statsmodels/genmod/families/family.py:445: RuntimeWarning: invalid value encountered in true_divide\n",
      "  endog_mu = self._clean(endog / mu)\n",
      "/home/ec2-user/anaconda3/envs/python3/lib/python3.10/site-packages/statsmodels/genmod/families/family.py:143: RuntimeWarning: invalid value encountered in multiply\n",
      "  return 1. / (self.link.deriv(mu)**2 * self.variance(mu))\n",
      "/home/ec2-user/anaconda3/envs/python3/lib/python3.10/site-packages/statsmodels/genmod/families/family.py:143: RuntimeWarning: divide by zero encountered in true_divide\n",
      "  return 1. / (self.link.deriv(mu)**2 * self.variance(mu))\n",
      "/home/ec2-user/anaconda3/envs/python3/lib/python3.10/site-packages/statsmodels/genmod/generalized_linear_model.py:1328: RuntimeWarning: invalid value encountered in multiply\n",
      "  wlsendog = (lin_pred + self.family.link.deriv(mu) * (self.endog-mu)\n"
     ]
    },
    {
     "ename": "ValueError",
     "evalue": "NaN, inf or invalid value detected in weights, estimation infeasible.",
     "output_type": "error",
     "traceback": [
      "\u001b[0;31m---------------------------------------------------------------------------\u001b[0m",
      "\u001b[0;31mValueError\u001b[0m                                Traceback (most recent call last)",
      "Cell \u001b[0;32mIn[29], line 2\u001b[0m\n\u001b[1;32m      1\u001b[0m \u001b[38;5;66;03m# Fit the Poisson model\u001b[39;00m\n\u001b[0;32m----> 2\u001b[0m poisson_model_spline \u001b[38;5;241m=\u001b[39m \u001b[43msm\u001b[49m\u001b[38;5;241;43m.\u001b[39;49m\u001b[43mGLM\u001b[49m\u001b[43m(\u001b[49m\u001b[43mresponse_subset\u001b[49m\u001b[43m,\u001b[49m\u001b[43m \u001b[49m\u001b[43mspline_features_subset\u001b[49m\u001b[43m,\u001b[49m\u001b[43m \u001b[49m\u001b[43mfamily\u001b[49m\u001b[38;5;241;43m=\u001b[39;49m\u001b[43msm\u001b[49m\u001b[38;5;241;43m.\u001b[39;49m\u001b[43mfamilies\u001b[49m\u001b[38;5;241;43m.\u001b[39;49m\u001b[43mPoisson\u001b[49m\u001b[43m(\u001b[49m\u001b[43m)\u001b[49m\u001b[43m)\u001b[49m\u001b[38;5;241;43m.\u001b[39;49m\u001b[43mfit\u001b[49m\u001b[43m(\u001b[49m\u001b[43m)\u001b[49m\n\u001b[1;32m      3\u001b[0m \u001b[38;5;28mprint\u001b[39m(poisson_model_spline\u001b[38;5;241m.\u001b[39msummary())\n",
      "File \u001b[0;32m~/anaconda3/envs/python3/lib/python3.10/site-packages/statsmodels/genmod/generalized_linear_model.py:1192\u001b[0m, in \u001b[0;36mGLM.fit\u001b[0;34m(self, start_params, maxiter, method, tol, scale, cov_type, cov_kwds, use_t, full_output, disp, max_start_irls, **kwargs)\u001b[0m\n\u001b[1;32m   1190\u001b[0m     \u001b[38;5;28;01mif\u001b[39;00m cov_type\u001b[38;5;241m.\u001b[39mlower() \u001b[38;5;241m==\u001b[39m \u001b[38;5;124m'\u001b[39m\u001b[38;5;124meim\u001b[39m\u001b[38;5;124m'\u001b[39m:\n\u001b[1;32m   1191\u001b[0m         cov_type \u001b[38;5;241m=\u001b[39m \u001b[38;5;124m'\u001b[39m\u001b[38;5;124mnonrobust\u001b[39m\u001b[38;5;124m'\u001b[39m\n\u001b[0;32m-> 1192\u001b[0m     \u001b[38;5;28;01mreturn\u001b[39;00m \u001b[38;5;28;43mself\u001b[39;49m\u001b[38;5;241;43m.\u001b[39;49m\u001b[43m_fit_irls\u001b[49m\u001b[43m(\u001b[49m\u001b[43mstart_params\u001b[49m\u001b[38;5;241;43m=\u001b[39;49m\u001b[43mstart_params\u001b[49m\u001b[43m,\u001b[49m\u001b[43m \u001b[49m\u001b[43mmaxiter\u001b[49m\u001b[38;5;241;43m=\u001b[39;49m\u001b[43mmaxiter\u001b[49m\u001b[43m,\u001b[49m\n\u001b[1;32m   1193\u001b[0m \u001b[43m                          \u001b[49m\u001b[43mtol\u001b[49m\u001b[38;5;241;43m=\u001b[39;49m\u001b[43mtol\u001b[49m\u001b[43m,\u001b[49m\u001b[43m \u001b[49m\u001b[43mscale\u001b[49m\u001b[38;5;241;43m=\u001b[39;49m\u001b[43mscale\u001b[49m\u001b[43m,\u001b[49m\u001b[43m \u001b[49m\u001b[43mcov_type\u001b[49m\u001b[38;5;241;43m=\u001b[39;49m\u001b[43mcov_type\u001b[49m\u001b[43m,\u001b[49m\n\u001b[1;32m   1194\u001b[0m \u001b[43m                          \u001b[49m\u001b[43mcov_kwds\u001b[49m\u001b[38;5;241;43m=\u001b[39;49m\u001b[43mcov_kwds\u001b[49m\u001b[43m,\u001b[49m\u001b[43m \u001b[49m\u001b[43muse_t\u001b[49m\u001b[38;5;241;43m=\u001b[39;49m\u001b[43muse_t\u001b[49m\u001b[43m,\u001b[49m\u001b[43m \u001b[49m\u001b[38;5;241;43m*\u001b[39;49m\u001b[38;5;241;43m*\u001b[39;49m\u001b[43mkwargs\u001b[49m\u001b[43m)\u001b[49m\n\u001b[1;32m   1195\u001b[0m \u001b[38;5;28;01melse\u001b[39;00m:\n\u001b[1;32m   1196\u001b[0m     \u001b[38;5;28mself\u001b[39m\u001b[38;5;241m.\u001b[39m_optim_hessian \u001b[38;5;241m=\u001b[39m kwargs\u001b[38;5;241m.\u001b[39mget(\u001b[38;5;124m'\u001b[39m\u001b[38;5;124moptim_hessian\u001b[39m\u001b[38;5;124m'\u001b[39m)\n",
      "File \u001b[0;32m~/anaconda3/envs/python3/lib/python3.10/site-packages/statsmodels/genmod/generalized_linear_model.py:1330\u001b[0m, in \u001b[0;36mGLM._fit_irls\u001b[0;34m(self, start_params, maxiter, tol, scale, cov_type, cov_kwds, use_t, **kwargs)\u001b[0m\n\u001b[1;32m   1326\u001b[0m \u001b[38;5;28mself\u001b[39m\u001b[38;5;241m.\u001b[39mweights \u001b[38;5;241m=\u001b[39m (\u001b[38;5;28mself\u001b[39m\u001b[38;5;241m.\u001b[39miweights \u001b[38;5;241m*\u001b[39m \u001b[38;5;28mself\u001b[39m\u001b[38;5;241m.\u001b[39mn_trials \u001b[38;5;241m*\u001b[39m\n\u001b[1;32m   1327\u001b[0m                 \u001b[38;5;28mself\u001b[39m\u001b[38;5;241m.\u001b[39mfamily\u001b[38;5;241m.\u001b[39mweights(mu))\n\u001b[1;32m   1328\u001b[0m wlsendog \u001b[38;5;241m=\u001b[39m (lin_pred \u001b[38;5;241m+\u001b[39m \u001b[38;5;28mself\u001b[39m\u001b[38;5;241m.\u001b[39mfamily\u001b[38;5;241m.\u001b[39mlink\u001b[38;5;241m.\u001b[39mderiv(mu) \u001b[38;5;241m*\u001b[39m (\u001b[38;5;28mself\u001b[39m\u001b[38;5;241m.\u001b[39mendog\u001b[38;5;241m-\u001b[39mmu)\n\u001b[1;32m   1329\u001b[0m             \u001b[38;5;241m-\u001b[39m \u001b[38;5;28mself\u001b[39m\u001b[38;5;241m.\u001b[39m_offset_exposure)\n\u001b[0;32m-> 1330\u001b[0m wls_mod \u001b[38;5;241m=\u001b[39m \u001b[43mreg_tools\u001b[49m\u001b[38;5;241;43m.\u001b[39;49m\u001b[43m_MinimalWLS\u001b[49m\u001b[43m(\u001b[49m\u001b[43mwlsendog\u001b[49m\u001b[43m,\u001b[49m\u001b[43m \u001b[49m\u001b[43mwlsexog\u001b[49m\u001b[43m,\u001b[49m\n\u001b[1;32m   1331\u001b[0m \u001b[43m                                \u001b[49m\u001b[38;5;28;43mself\u001b[39;49m\u001b[38;5;241;43m.\u001b[39;49m\u001b[43mweights\u001b[49m\u001b[43m,\u001b[49m\u001b[43m \u001b[49m\u001b[43mcheck_endog\u001b[49m\u001b[38;5;241;43m=\u001b[39;49m\u001b[38;5;28;43;01mTrue\u001b[39;49;00m\u001b[43m,\u001b[49m\n\u001b[1;32m   1332\u001b[0m \u001b[43m                                \u001b[49m\u001b[43mcheck_weights\u001b[49m\u001b[38;5;241;43m=\u001b[39;49m\u001b[38;5;28;43;01mTrue\u001b[39;49;00m\u001b[43m)\u001b[49m\n\u001b[1;32m   1333\u001b[0m wls_results \u001b[38;5;241m=\u001b[39m wls_mod\u001b[38;5;241m.\u001b[39mfit(method\u001b[38;5;241m=\u001b[39mwls_method)\n\u001b[1;32m   1334\u001b[0m lin_pred \u001b[38;5;241m=\u001b[39m np\u001b[38;5;241m.\u001b[39mdot(\u001b[38;5;28mself\u001b[39m\u001b[38;5;241m.\u001b[39mexog, wls_results\u001b[38;5;241m.\u001b[39mparams)\n",
      "File \u001b[0;32m~/anaconda3/envs/python3/lib/python3.10/site-packages/statsmodels/regression/_tools.py:48\u001b[0m, in \u001b[0;36m_MinimalWLS.__init__\u001b[0;34m(self, endog, exog, weights, check_endog, check_weights)\u001b[0m\n\u001b[1;32m     46\u001b[0m \u001b[38;5;28;01mif\u001b[39;00m check_weights:\n\u001b[1;32m     47\u001b[0m     \u001b[38;5;28;01mif\u001b[39;00m \u001b[38;5;129;01mnot\u001b[39;00m np\u001b[38;5;241m.\u001b[39mall(np\u001b[38;5;241m.\u001b[39misfinite(w_half)):\n\u001b[0;32m---> 48\u001b[0m         \u001b[38;5;28;01mraise\u001b[39;00m \u001b[38;5;167;01mValueError\u001b[39;00m(\u001b[38;5;28mself\u001b[39m\u001b[38;5;241m.\u001b[39mmsg\u001b[38;5;241m.\u001b[39mformat(\u001b[38;5;124m'\u001b[39m\u001b[38;5;124mweights\u001b[39m\u001b[38;5;124m'\u001b[39m))\n\u001b[1;32m     50\u001b[0m \u001b[38;5;28;01mif\u001b[39;00m check_endog:\n\u001b[1;32m     51\u001b[0m     \u001b[38;5;28;01mif\u001b[39;00m \u001b[38;5;129;01mnot\u001b[39;00m np\u001b[38;5;241m.\u001b[39mall(np\u001b[38;5;241m.\u001b[39misfinite(endog)):\n",
      "\u001b[0;31mValueError\u001b[0m: NaN, inf or invalid value detected in weights, estimation infeasible."
     ]
    }
   ],
   "source": [
    "# Fit the Poisson model\n",
    "poisson_model_spline = sm.GLM(response_subset, spline_features_subset, family=sm.families.Poisson()).fit()\n",
    "print(poisson_model_spline.summary())"
   ]
  },
  {
   "cell_type": "code",
   "execution_count": 29,
   "id": "7aca1b59-bb09-43c1-a11c-819b00da1fda",
   "metadata": {
    "tags": []
   },
   "outputs": [
    {
     "ename": "ValueError",
     "evalue": "Pandas data cast to numpy dtype of object. Check input data with np.asarray(data).",
     "output_type": "error",
     "traceback": [
      "\u001b[0;31m---------------------------------------------------------------------------\u001b[0m",
      "\u001b[0;31mValueError\u001b[0m                                Traceback (most recent call last)",
      "Cell \u001b[0;32mIn[29], line 2\u001b[0m\n\u001b[1;32m      1\u001b[0m \u001b[38;5;66;03m# # Fit the Poisson model\u001b[39;00m\n\u001b[0;32m----> 2\u001b[0m poisson_model_spline \u001b[38;5;241m=\u001b[39m \u001b[43msm\u001b[49m\u001b[38;5;241;43m.\u001b[39;49m\u001b[43mGLM\u001b[49m\u001b[43m(\u001b[49m\u001b[43mtemporal_subset\u001b[49m\u001b[43m,\u001b[49m\u001b[43m \u001b[49m\u001b[43mspline_features_subset\u001b[49m\u001b[43m,\u001b[49m\u001b[43m \u001b[49m\u001b[43mfamily\u001b[49m\u001b[38;5;241;43m=\u001b[39;49m\u001b[43msm\u001b[49m\u001b[38;5;241;43m.\u001b[39;49m\u001b[43mfamilies\u001b[49m\u001b[38;5;241;43m.\u001b[39;49m\u001b[43mPoisson\u001b[49m\u001b[43m(\u001b[49m\u001b[43m)\u001b[49m\u001b[43m)\u001b[49m\u001b[38;5;241m.\u001b[39mfit()\n",
      "File \u001b[0;32m~/anaconda3/envs/python3/lib/python3.10/site-packages/statsmodels/genmod/generalized_linear_model.py:326\u001b[0m, in \u001b[0;36mGLM.__init__\u001b[0;34m(self, endog, exog, family, offset, exposure, freq_weights, var_weights, missing, **kwargs)\u001b[0m\n\u001b[1;32m    323\u001b[0m \u001b[38;5;28mself\u001b[39m\u001b[38;5;241m.\u001b[39mfreq_weights \u001b[38;5;241m=\u001b[39m freq_weights\n\u001b[1;32m    324\u001b[0m \u001b[38;5;28mself\u001b[39m\u001b[38;5;241m.\u001b[39mvar_weights \u001b[38;5;241m=\u001b[39m var_weights\n\u001b[0;32m--> 326\u001b[0m \u001b[38;5;28;43msuper\u001b[39;49m\u001b[43m(\u001b[49m\u001b[43mGLM\u001b[49m\u001b[43m,\u001b[49m\u001b[43m \u001b[49m\u001b[38;5;28;43mself\u001b[39;49m\u001b[43m)\u001b[49m\u001b[38;5;241;43m.\u001b[39;49m\u001b[38;5;21;43m__init__\u001b[39;49m\u001b[43m(\u001b[49m\u001b[43mendog\u001b[49m\u001b[43m,\u001b[49m\u001b[43m \u001b[49m\u001b[43mexog\u001b[49m\u001b[43m,\u001b[49m\u001b[43m \u001b[49m\u001b[43mmissing\u001b[49m\u001b[38;5;241;43m=\u001b[39;49m\u001b[43mmissing\u001b[49m\u001b[43m,\u001b[49m\n\u001b[1;32m    327\u001b[0m \u001b[43m                          \u001b[49m\u001b[43moffset\u001b[49m\u001b[38;5;241;43m=\u001b[39;49m\u001b[43moffset\u001b[49m\u001b[43m,\u001b[49m\u001b[43m \u001b[49m\u001b[43mexposure\u001b[49m\u001b[38;5;241;43m=\u001b[39;49m\u001b[43mexposure\u001b[49m\u001b[43m,\u001b[49m\n\u001b[1;32m    328\u001b[0m \u001b[43m                          \u001b[49m\u001b[43mfreq_weights\u001b[49m\u001b[38;5;241;43m=\u001b[39;49m\u001b[43mfreq_weights\u001b[49m\u001b[43m,\u001b[49m\n\u001b[1;32m    329\u001b[0m \u001b[43m                          \u001b[49m\u001b[43mvar_weights\u001b[49m\u001b[38;5;241;43m=\u001b[39;49m\u001b[43mvar_weights\u001b[49m\u001b[43m,\u001b[49m\u001b[43m \u001b[49m\u001b[38;5;241;43m*\u001b[39;49m\u001b[38;5;241;43m*\u001b[39;49m\u001b[43mkwargs\u001b[49m\u001b[43m)\u001b[49m\n\u001b[1;32m    330\u001b[0m \u001b[38;5;28mself\u001b[39m\u001b[38;5;241m.\u001b[39m_check_inputs(family, \u001b[38;5;28mself\u001b[39m\u001b[38;5;241m.\u001b[39moffset, \u001b[38;5;28mself\u001b[39m\u001b[38;5;241m.\u001b[39mexposure, \u001b[38;5;28mself\u001b[39m\u001b[38;5;241m.\u001b[39mendog,\n\u001b[1;32m    331\u001b[0m                    \u001b[38;5;28mself\u001b[39m\u001b[38;5;241m.\u001b[39mfreq_weights, \u001b[38;5;28mself\u001b[39m\u001b[38;5;241m.\u001b[39mvar_weights)\n\u001b[1;32m    332\u001b[0m \u001b[38;5;28;01mif\u001b[39;00m offset \u001b[38;5;129;01mis\u001b[39;00m \u001b[38;5;28;01mNone\u001b[39;00m:\n",
      "File \u001b[0;32m~/anaconda3/envs/python3/lib/python3.10/site-packages/statsmodels/base/model.py:270\u001b[0m, in \u001b[0;36mLikelihoodModel.__init__\u001b[0;34m(self, endog, exog, **kwargs)\u001b[0m\n\u001b[1;32m    269\u001b[0m \u001b[38;5;28;01mdef\u001b[39;00m \u001b[38;5;21m__init__\u001b[39m(\u001b[38;5;28mself\u001b[39m, endog, exog\u001b[38;5;241m=\u001b[39m\u001b[38;5;28;01mNone\u001b[39;00m, \u001b[38;5;241m*\u001b[39m\u001b[38;5;241m*\u001b[39mkwargs):\n\u001b[0;32m--> 270\u001b[0m     \u001b[38;5;28;43msuper\u001b[39;49m\u001b[43m(\u001b[49m\u001b[43m)\u001b[49m\u001b[38;5;241;43m.\u001b[39;49m\u001b[38;5;21;43m__init__\u001b[39;49m\u001b[43m(\u001b[49m\u001b[43mendog\u001b[49m\u001b[43m,\u001b[49m\u001b[43m \u001b[49m\u001b[43mexog\u001b[49m\u001b[43m,\u001b[49m\u001b[43m \u001b[49m\u001b[38;5;241;43m*\u001b[39;49m\u001b[38;5;241;43m*\u001b[39;49m\u001b[43mkwargs\u001b[49m\u001b[43m)\u001b[49m\n\u001b[1;32m    271\u001b[0m     \u001b[38;5;28mself\u001b[39m\u001b[38;5;241m.\u001b[39minitialize()\n",
      "File \u001b[0;32m~/anaconda3/envs/python3/lib/python3.10/site-packages/statsmodels/base/model.py:95\u001b[0m, in \u001b[0;36mModel.__init__\u001b[0;34m(self, endog, exog, **kwargs)\u001b[0m\n\u001b[1;32m     93\u001b[0m missing \u001b[38;5;241m=\u001b[39m kwargs\u001b[38;5;241m.\u001b[39mpop(\u001b[38;5;124m'\u001b[39m\u001b[38;5;124mmissing\u001b[39m\u001b[38;5;124m'\u001b[39m, \u001b[38;5;124m'\u001b[39m\u001b[38;5;124mnone\u001b[39m\u001b[38;5;124m'\u001b[39m)\n\u001b[1;32m     94\u001b[0m hasconst \u001b[38;5;241m=\u001b[39m kwargs\u001b[38;5;241m.\u001b[39mpop(\u001b[38;5;124m'\u001b[39m\u001b[38;5;124mhasconst\u001b[39m\u001b[38;5;124m'\u001b[39m, \u001b[38;5;28;01mNone\u001b[39;00m)\n\u001b[0;32m---> 95\u001b[0m \u001b[38;5;28mself\u001b[39m\u001b[38;5;241m.\u001b[39mdata \u001b[38;5;241m=\u001b[39m \u001b[38;5;28;43mself\u001b[39;49m\u001b[38;5;241;43m.\u001b[39;49m\u001b[43m_handle_data\u001b[49m\u001b[43m(\u001b[49m\u001b[43mendog\u001b[49m\u001b[43m,\u001b[49m\u001b[43m \u001b[49m\u001b[43mexog\u001b[49m\u001b[43m,\u001b[49m\u001b[43m \u001b[49m\u001b[43mmissing\u001b[49m\u001b[43m,\u001b[49m\u001b[43m \u001b[49m\u001b[43mhasconst\u001b[49m\u001b[43m,\u001b[49m\n\u001b[1;32m     96\u001b[0m \u001b[43m                              \u001b[49m\u001b[38;5;241;43m*\u001b[39;49m\u001b[38;5;241;43m*\u001b[39;49m\u001b[43mkwargs\u001b[49m\u001b[43m)\u001b[49m\n\u001b[1;32m     97\u001b[0m \u001b[38;5;28mself\u001b[39m\u001b[38;5;241m.\u001b[39mk_constant \u001b[38;5;241m=\u001b[39m \u001b[38;5;28mself\u001b[39m\u001b[38;5;241m.\u001b[39mdata\u001b[38;5;241m.\u001b[39mk_constant\n\u001b[1;32m     98\u001b[0m \u001b[38;5;28mself\u001b[39m\u001b[38;5;241m.\u001b[39mexog \u001b[38;5;241m=\u001b[39m \u001b[38;5;28mself\u001b[39m\u001b[38;5;241m.\u001b[39mdata\u001b[38;5;241m.\u001b[39mexog\n",
      "File \u001b[0;32m~/anaconda3/envs/python3/lib/python3.10/site-packages/statsmodels/base/model.py:135\u001b[0m, in \u001b[0;36mModel._handle_data\u001b[0;34m(self, endog, exog, missing, hasconst, **kwargs)\u001b[0m\n\u001b[1;32m    134\u001b[0m \u001b[38;5;28;01mdef\u001b[39;00m \u001b[38;5;21m_handle_data\u001b[39m(\u001b[38;5;28mself\u001b[39m, endog, exog, missing, hasconst, \u001b[38;5;241m*\u001b[39m\u001b[38;5;241m*\u001b[39mkwargs):\n\u001b[0;32m--> 135\u001b[0m     data \u001b[38;5;241m=\u001b[39m \u001b[43mhandle_data\u001b[49m\u001b[43m(\u001b[49m\u001b[43mendog\u001b[49m\u001b[43m,\u001b[49m\u001b[43m \u001b[49m\u001b[43mexog\u001b[49m\u001b[43m,\u001b[49m\u001b[43m \u001b[49m\u001b[43mmissing\u001b[49m\u001b[43m,\u001b[49m\u001b[43m \u001b[49m\u001b[43mhasconst\u001b[49m\u001b[43m,\u001b[49m\u001b[43m \u001b[49m\u001b[38;5;241;43m*\u001b[39;49m\u001b[38;5;241;43m*\u001b[39;49m\u001b[43mkwargs\u001b[49m\u001b[43m)\u001b[49m\n\u001b[1;32m    136\u001b[0m     \u001b[38;5;66;03m# kwargs arrays could have changed, easier to just attach here\u001b[39;00m\n\u001b[1;32m    137\u001b[0m     \u001b[38;5;28;01mfor\u001b[39;00m key \u001b[38;5;129;01min\u001b[39;00m kwargs:\n",
      "File \u001b[0;32m~/anaconda3/envs/python3/lib/python3.10/site-packages/statsmodels/base/data.py:675\u001b[0m, in \u001b[0;36mhandle_data\u001b[0;34m(endog, exog, missing, hasconst, **kwargs)\u001b[0m\n\u001b[1;32m    672\u001b[0m     exog \u001b[38;5;241m=\u001b[39m np\u001b[38;5;241m.\u001b[39masarray(exog)\n\u001b[1;32m    674\u001b[0m klass \u001b[38;5;241m=\u001b[39m handle_data_class_factory(endog, exog)\n\u001b[0;32m--> 675\u001b[0m \u001b[38;5;28;01mreturn\u001b[39;00m \u001b[43mklass\u001b[49m\u001b[43m(\u001b[49m\u001b[43mendog\u001b[49m\u001b[43m,\u001b[49m\u001b[43m \u001b[49m\u001b[43mexog\u001b[49m\u001b[38;5;241;43m=\u001b[39;49m\u001b[43mexog\u001b[49m\u001b[43m,\u001b[49m\u001b[43m \u001b[49m\u001b[43mmissing\u001b[49m\u001b[38;5;241;43m=\u001b[39;49m\u001b[43mmissing\u001b[49m\u001b[43m,\u001b[49m\u001b[43m \u001b[49m\u001b[43mhasconst\u001b[49m\u001b[38;5;241;43m=\u001b[39;49m\u001b[43mhasconst\u001b[49m\u001b[43m,\u001b[49m\n\u001b[1;32m    676\u001b[0m \u001b[43m             \u001b[49m\u001b[38;5;241;43m*\u001b[39;49m\u001b[38;5;241;43m*\u001b[39;49m\u001b[43mkwargs\u001b[49m\u001b[43m)\u001b[49m\n",
      "File \u001b[0;32m~/anaconda3/envs/python3/lib/python3.10/site-packages/statsmodels/base/data.py:84\u001b[0m, in \u001b[0;36mModelData.__init__\u001b[0;34m(self, endog, exog, missing, hasconst, **kwargs)\u001b[0m\n\u001b[1;32m     82\u001b[0m     \u001b[38;5;28mself\u001b[39m\u001b[38;5;241m.\u001b[39morig_endog \u001b[38;5;241m=\u001b[39m endog\n\u001b[1;32m     83\u001b[0m     \u001b[38;5;28mself\u001b[39m\u001b[38;5;241m.\u001b[39morig_exog \u001b[38;5;241m=\u001b[39m exog\n\u001b[0;32m---> 84\u001b[0m     \u001b[38;5;28mself\u001b[39m\u001b[38;5;241m.\u001b[39mendog, \u001b[38;5;28mself\u001b[39m\u001b[38;5;241m.\u001b[39mexog \u001b[38;5;241m=\u001b[39m \u001b[38;5;28;43mself\u001b[39;49m\u001b[38;5;241;43m.\u001b[39;49m\u001b[43m_convert_endog_exog\u001b[49m\u001b[43m(\u001b[49m\u001b[43mendog\u001b[49m\u001b[43m,\u001b[49m\u001b[43m \u001b[49m\u001b[43mexog\u001b[49m\u001b[43m)\u001b[49m\n\u001b[1;32m     86\u001b[0m \u001b[38;5;28mself\u001b[39m\u001b[38;5;241m.\u001b[39mconst_idx \u001b[38;5;241m=\u001b[39m \u001b[38;5;28;01mNone\u001b[39;00m\n\u001b[1;32m     87\u001b[0m \u001b[38;5;28mself\u001b[39m\u001b[38;5;241m.\u001b[39mk_constant \u001b[38;5;241m=\u001b[39m \u001b[38;5;241m0\u001b[39m\n",
      "File \u001b[0;32m~/anaconda3/envs/python3/lib/python3.10/site-packages/statsmodels/base/data.py:509\u001b[0m, in \u001b[0;36mPandasData._convert_endog_exog\u001b[0;34m(self, endog, exog)\u001b[0m\n\u001b[1;32m    507\u001b[0m exog \u001b[38;5;241m=\u001b[39m exog \u001b[38;5;28;01mif\u001b[39;00m exog \u001b[38;5;129;01mis\u001b[39;00m \u001b[38;5;28;01mNone\u001b[39;00m \u001b[38;5;28;01melse\u001b[39;00m np\u001b[38;5;241m.\u001b[39masarray(exog)\n\u001b[1;32m    508\u001b[0m \u001b[38;5;28;01mif\u001b[39;00m endog\u001b[38;5;241m.\u001b[39mdtype \u001b[38;5;241m==\u001b[39m \u001b[38;5;28mobject\u001b[39m \u001b[38;5;129;01mor\u001b[39;00m exog \u001b[38;5;129;01mis\u001b[39;00m \u001b[38;5;129;01mnot\u001b[39;00m \u001b[38;5;28;01mNone\u001b[39;00m \u001b[38;5;129;01mand\u001b[39;00m exog\u001b[38;5;241m.\u001b[39mdtype \u001b[38;5;241m==\u001b[39m \u001b[38;5;28mobject\u001b[39m:\n\u001b[0;32m--> 509\u001b[0m     \u001b[38;5;28;01mraise\u001b[39;00m \u001b[38;5;167;01mValueError\u001b[39;00m(\u001b[38;5;124m\"\u001b[39m\u001b[38;5;124mPandas data cast to numpy dtype of object. \u001b[39m\u001b[38;5;124m\"\u001b[39m\n\u001b[1;32m    510\u001b[0m                      \u001b[38;5;124m\"\u001b[39m\u001b[38;5;124mCheck input data with np.asarray(data).\u001b[39m\u001b[38;5;124m\"\u001b[39m)\n\u001b[1;32m    511\u001b[0m \u001b[38;5;28;01mreturn\u001b[39;00m \u001b[38;5;28msuper\u001b[39m(PandasData, \u001b[38;5;28mself\u001b[39m)\u001b[38;5;241m.\u001b[39m_convert_endog_exog(endog, exog)\n",
      "\u001b[0;31mValueError\u001b[0m: Pandas data cast to numpy dtype of object. Check input data with np.asarray(data)."
     ]
    }
   ],
   "source": [
    "# # Fit the Poisson model\n",
    "poisson_model_spline = sm.GLM(temporal_subset, spline_features_subset, family=sm.families.Poisson()).fit()"
   ]
  },
  {
   "cell_type": "code",
   "execution_count": null,
   "id": "612761b2-126b-4d91-b4fe-824e5b760b71",
   "metadata": {},
   "outputs": [],
   "source": [
    "\n",
    "\n",
    "# # Create spline terms for future intervals\n",
    "future_spline_features = dmatrix(\"cr(Time_Interval_Std, df=5) + C(Hour) + C(Day_of_Week) + C(Minute)\", data=future_intervals_df, return_type='dataframe')\n",
    "\n",
    "# # Predict using the spline Poisson model\n",
    "future_intervals_df['Predicted_Rentals'] = poisson_model_spline.predict(future_spline_features)\n",
    "\n",
    "# Fitting the Poisson regression model with new features\n",
    "poisson_model_aug2 = smf.poisson('Rentals ~ Time_Interval_Std + C(Day_of_Week) + C(MinuteHour)', data=rentals_5min).fit()\n",
    "\n",
    "# Displaying the summary of the model\n",
    "poisson_model_aug_summary2 = poisson_model_aug2.summary()\n",
    "print(poisson_model_aug_summary2)"
   ]
  },
  {
   "cell_type": "code",
   "execution_count": 20,
   "id": "27d85a1e-dbfc-47f4-9114-e66dde0552de",
   "metadata": {
    "tags": []
   },
   "outputs": [
    {
     "ename": "NameError",
     "evalue": "name 'poisson_model_aug2' is not defined",
     "output_type": "error",
     "traceback": [
      "\u001b[0;31m---------------------------------------------------------------------------\u001b[0m",
      "\u001b[0;31mNameError\u001b[0m                                 Traceback (most recent call last)",
      "Cell \u001b[0;32mIn[20], line 14\u001b[0m\n\u001b[1;32m     11\u001b[0m future_intervals_df[\u001b[38;5;124m'\u001b[39m\u001b[38;5;124mTime_Interval_Std\u001b[39m\u001b[38;5;124m'\u001b[39m] \u001b[38;5;241m=\u001b[39m scaler\u001b[38;5;241m.\u001b[39mtransform(future_intervals_df[[\u001b[38;5;124m'\u001b[39m\u001b[38;5;124mTime_Interval\u001b[39m\u001b[38;5;124m'\u001b[39m]])\n\u001b[1;32m     13\u001b[0m \u001b[38;5;66;03m# Predict the rental rates for future intervals\u001b[39;00m\n\u001b[0;32m---> 14\u001b[0m future_intervals_df[\u001b[38;5;124m'\u001b[39m\u001b[38;5;124mPredicted_Rentals\u001b[39m\u001b[38;5;124m'\u001b[39m] \u001b[38;5;241m=\u001b[39m \u001b[43mpoisson_model_aug2\u001b[49m\u001b[38;5;241m.\u001b[39mpredict(future_intervals_df[[\u001b[38;5;124m'\u001b[39m\u001b[38;5;124mTime_Interval_Std\u001b[39m\u001b[38;5;124m'\u001b[39m, \u001b[38;5;124m'\u001b[39m\u001b[38;5;124mDay_of_Week\u001b[39m\u001b[38;5;124m'\u001b[39m, \u001b[38;5;124m'\u001b[39m\u001b[38;5;124mMinuteHour\u001b[39m\u001b[38;5;124m'\u001b[39m]])\n\u001b[1;32m     15\u001b[0m future_intervals_df\u001b[38;5;241m.\u001b[39mhead()\n",
      "\u001b[0;31mNameError\u001b[0m: name 'poisson_model_aug2' is not defined"
     ]
    }
   ],
   "source": [
    "# Create future time intervals for the next 24 hours\n",
    "future_intervals = pd.date_range(start=rentals_5min['Start Date'].max(), periods=24*12, freq='5min')\n",
    "future_intervals_df = pd.DataFrame({'Start Date': future_intervals})\n",
    "future_intervals_df['Hour'] = future_intervals_df['Start Date'].dt.hour\n",
    "future_intervals_df['Day_of_Week'] = future_intervals_df['Start Date'].dt.dayofweek\n",
    "future_intervals_df['Minute'] = future_intervals_df['Start Date'].dt.minute\n",
    "future_intervals_df['MinuteHour'] = 60*future_intervals_df['Hour'].astype(int) + future_intervals_df['Minute'].astype(int)\n",
    "\n",
    "# Standardize the future intervals\n",
    "future_intervals_df['Time_Interval'] = (future_intervals_df['Start Date'] - rentals_5min['Start Date'].min()).dt.total_seconds() / 60\n",
    "future_intervals_df['Time_Interval_Std'] = scaler.transform(future_intervals_df[['Time_Interval']])\n",
    "\n",
    "# Predict the rental rates for future intervals\n",
    "future_intervals_df['Predicted_Rentals'] = poisson_model_aug2.predict(future_intervals_df[['Time_Interval_Std', 'Day_of_Week', 'MinuteHour']])\n",
    "future_intervals_df.head()"
   ]
  },
  {
   "cell_type": "code",
   "execution_count": null,
   "id": "bcba677a-0676-4547-9f64-c56a9c9f7531",
   "metadata": {
    "tags": []
   },
   "outputs": [],
   "source": [
    "# import statsmodels.api as sm\n",
    "\n",
    "# # Define the minimum and maximum values for the x-axis\n",
    "# xmin = pd.to_datetime('2024-05-01 06:00')\n",
    "# xmax = pd.to_datetime('2024-05-01 12:00')\n",
    "\n",
    "# # Convert these dates to numerical format for setting limits\n",
    "# xmin_numeric = mdates.date2num(xmin)\n",
    "# xmax_numeric = mdates.date2num(xmax)\n",
    "\n",
    "# # Convert Start Date to numerical format for plotting\n",
    "# future_intervals_df['Start Date Numeric'] = mdates.date2num(future_intervals_df['Start Date'])\n",
    "\n",
    "# # Create the plot\n",
    "# plt.figure(figsize=(12, 6))\n",
    "# sns.scatterplot(x='Start Date', y='Predicted_Rentals', data=future_intervals_df, label='Predicted Rentals')\n",
    "\n",
    "# # Adding a smooth line using LOWESS (Locally Weighted Scatterplot Smoothing)\n",
    "# lowess = sm.nonparametric.lowess\n",
    "# smoothed = lowess(future_intervals_df['Predicted_Rentals'], future_intervals_df['Start Date Numeric'], frac=0.1)\n",
    "\n",
    "# plt.plot(mdates.num2date(smoothed[:, 0]), smoothed[:, 1], color='red', label='Trend Line')\n",
    "\n",
    "# # Add title and labels\n",
    "# plt.title('Predicted Rentals Over Time')\n",
    "# plt.xlabel('Start Date')\n",
    "# plt.ylabel('Predicted Rentals')\n",
    "# plt.legend()\n",
    "\n",
    "# # Rotate x-axis labels for better readability\n",
    "# plt.xticks(rotation=45)\n",
    "\n",
    "# # Set x-axis limits\n",
    "# plt.gca().set_xlim(xmin, xmax)\n",
    "\n",
    "# # Format x-axis to show dates\n",
    "# plt.gca().xaxis.set_major_formatter(mdates.DateFormatter('%Y-%m-%d %H:%M'))\n",
    "# plt.gca().xaxis.set_major_locator(mdates.HourLocator(interval=6))\n",
    "\n",
    "# # Show the plot\n",
    "# plt.show()"
   ]
  },
  {
   "cell_type": "code",
   "execution_count": null,
   "id": "4953caf5-7e6b-4844-b774-62322582717c",
   "metadata": {
    "tags": []
   },
   "outputs": [],
   "source": [
    "rentals_5min['MinuteHour'] = 60*rentals_5min['Hour'].astype(int) + rentals_5min['Minute'].astype(int)\n",
    "rentals_5min.head()"
   ]
  },
  {
   "cell_type": "code",
   "execution_count": null,
   "id": "fa6f823c-0bf4-45ca-bb2a-44bae902356b",
   "metadata": {},
   "outputs": [],
   "source": []
  },
  {
   "cell_type": "code",
   "execution_count": null,
   "id": "bb892135-47c2-4ebd-9ea7-42475a4456d6",
   "metadata": {},
   "outputs": [],
   "source": []
  },
  {
   "cell_type": "code",
   "execution_count": null,
   "id": "92e89adf-16b9-479d-a512-044a9c836411",
   "metadata": {},
   "outputs": [],
   "source": []
  },
  {
   "cell_type": "code",
   "execution_count": null,
   "id": "a959ba77-bcb6-4915-8cd9-0e5eaaaa07b2",
   "metadata": {},
   "outputs": [],
   "source": []
  }
 ],
 "metadata": {
  "kernelspec": {
   "display_name": "conda_python3",
   "language": "python",
   "name": "conda_python3"
  },
  "language_info": {
   "codemirror_mode": {
    "name": "ipython",
    "version": 3
   },
   "file_extension": ".py",
   "mimetype": "text/x-python",
   "name": "python",
   "nbconvert_exporter": "python",
   "pygments_lexer": "ipython3",
   "version": "3.10.14"
  }
 },
 "nbformat": 4,
 "nbformat_minor": 5
}
