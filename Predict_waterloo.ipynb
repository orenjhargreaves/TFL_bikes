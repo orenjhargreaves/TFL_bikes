{
 "cells": [
  {
   "cell_type": "code",
   "execution_count": 1,
   "id": "522c1a36-722b-4b81-841c-295151e3492f",
   "metadata": {
    "tags": []
   },
   "outputs": [],
   "source": [
    "import boto3\n",
    "import pickle\n",
    "import matplotlib.pyplot as plt\n",
    "import pandas as pd\n",
    "from prophet import Prophet\n",
    "from prophet.plot import plot_plotly\n",
    "\n",
    "%matplotlib inline"
   ]
  },
  {
   "cell_type": "code",
   "execution_count": 2,
   "id": "23a44710-7281-4f44-8262-cffa39676ce5",
   "metadata": {
    "tags": []
   },
   "outputs": [],
   "source": [
    "#load from S3 and Unpickle\n",
    "\n",
    "name = 'waterloo_outflow_Prophet_model.pkl'\n",
    "remote_loc = f'Docking-Station-Model/{name}'\n",
    "local_loc = f'temp/{name}'\n",
    "\n",
    "bucket_name = 'tfl-cycle-data'\n",
    "s3 = boto3.client('s3')\n",
    "s3.download_file(bucket_name, remote_loc, local_loc)\n",
    "\n",
    "with open(local_loc, 'rb') as f:\n",
    "    outflow_model = pickle.load(f)"
   ]
  },
  {
   "cell_type": "code",
   "execution_count": null,
   "id": "af2eb26c-f723-40a5-a40c-b33ab7aa2bbd",
   "metadata": {},
   "outputs": [],
   "source": []
  }
 ],
 "metadata": {
  "kernelspec": {
   "display_name": "conda_python3",
   "language": "python",
   "name": "conda_python3"
  },
  "language_info": {
   "codemirror_mode": {
    "name": "ipython",
    "version": 3
   },
   "file_extension": ".py",
   "mimetype": "text/x-python",
   "name": "python",
   "nbconvert_exporter": "python",
   "pygments_lexer": "ipython3",
   "version": "3.10.14"
  }
 },
 "nbformat": 4,
 "nbformat_minor": 5
}
