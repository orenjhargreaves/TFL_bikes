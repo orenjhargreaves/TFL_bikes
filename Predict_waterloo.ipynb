{
 "cells": [
  {
   "cell_type": "code",
   "execution_count": 2,
   "id": "5fce95eb-1f5b-41b1-ae0b-2b964a9b6ce1",
   "metadata": {
    "tags": []
   },
   "outputs": [
    {
     "name": "stdout",
     "output_type": "stream",
     "text": [
      "Collecting prophet\n",
      "  Downloading prophet-1.1.5-py3-none-manylinux_2_17_x86_64.manylinux2014_x86_64.whl.metadata (3.5 kB)\n",
      "Collecting cmdstanpy>=1.0.4 (from prophet)\n",
      "  Downloading cmdstanpy-1.2.3-py3-none-any.whl.metadata (4.1 kB)\n",
      "Requirement already satisfied: numpy>=1.15.4 in /home/ec2-user/anaconda3/envs/python3/lib/python3.10/site-packages (from prophet) (1.22.4)\n",
      "Requirement already satisfied: matplotlib>=2.0.0 in /home/ec2-user/anaconda3/envs/python3/lib/python3.10/site-packages (from prophet) (3.8.3)\n",
      "Requirement already satisfied: pandas>=1.0.4 in /home/ec2-user/anaconda3/envs/python3/lib/python3.10/site-packages (from prophet) (2.2.1)\n",
      "Collecting holidays>=0.25 (from prophet)\n",
      "  Downloading holidays-0.50-py3-none-any.whl.metadata (23 kB)\n",
      "Requirement already satisfied: tqdm>=4.36.1 in /home/ec2-user/anaconda3/envs/python3/lib/python3.10/site-packages (from prophet) (4.66.2)\n",
      "Requirement already satisfied: importlib-resources in /home/ec2-user/anaconda3/envs/python3/lib/python3.10/site-packages (from prophet) (6.4.0)\n",
      "Collecting stanio<2.0.0,>=0.4.0 (from cmdstanpy>=1.0.4->prophet)\n",
      "  Downloading stanio-0.5.0-py3-none-any.whl.metadata (1.3 kB)\n",
      "Requirement already satisfied: python-dateutil in /home/ec2-user/anaconda3/envs/python3/lib/python3.10/site-packages (from holidays>=0.25->prophet) (2.9.0)\n",
      "Requirement already satisfied: contourpy>=1.0.1 in /home/ec2-user/anaconda3/envs/python3/lib/python3.10/site-packages (from matplotlib>=2.0.0->prophet) (1.2.0)\n",
      "Requirement already satisfied: cycler>=0.10 in /home/ec2-user/anaconda3/envs/python3/lib/python3.10/site-packages (from matplotlib>=2.0.0->prophet) (0.12.1)\n",
      "Requirement already satisfied: fonttools>=4.22.0 in /home/ec2-user/anaconda3/envs/python3/lib/python3.10/site-packages (from matplotlib>=2.0.0->prophet) (4.50.0)\n",
      "Requirement already satisfied: kiwisolver>=1.3.1 in /home/ec2-user/anaconda3/envs/python3/lib/python3.10/site-packages (from matplotlib>=2.0.0->prophet) (1.4.5)\n",
      "Requirement already satisfied: packaging>=20.0 in /home/ec2-user/anaconda3/envs/python3/lib/python3.10/site-packages (from matplotlib>=2.0.0->prophet) (21.3)\n",
      "Requirement already satisfied: pillow>=8 in /home/ec2-user/anaconda3/envs/python3/lib/python3.10/site-packages (from matplotlib>=2.0.0->prophet) (10.2.0)\n",
      "Requirement already satisfied: pyparsing>=2.3.1 in /home/ec2-user/anaconda3/envs/python3/lib/python3.10/site-packages (from matplotlib>=2.0.0->prophet) (3.1.2)\n",
      "Requirement already satisfied: pytz>=2020.1 in /home/ec2-user/anaconda3/envs/python3/lib/python3.10/site-packages (from pandas>=1.0.4->prophet) (2024.1)\n",
      "Requirement already satisfied: tzdata>=2022.7 in /home/ec2-user/anaconda3/envs/python3/lib/python3.10/site-packages (from pandas>=1.0.4->prophet) (2024.1)\n",
      "Requirement already satisfied: six>=1.5 in /home/ec2-user/anaconda3/envs/python3/lib/python3.10/site-packages (from python-dateutil->holidays>=0.25->prophet) (1.16.0)\n",
      "Downloading prophet-1.1.5-py3-none-manylinux_2_17_x86_64.manylinux2014_x86_64.whl (14.4 MB)\n",
      "\u001b[2K   \u001b[90m━━━━━━━━━━━━━━━━━━━━━━━━━━━━━━━━━━━━━━━━\u001b[0m \u001b[32m14.4/14.4 MB\u001b[0m \u001b[31m33.1 MB/s\u001b[0m eta \u001b[36m0:00:00\u001b[0m:00:01\u001b[0m00:01\u001b[0m\n",
      "\u001b[?25hDownloading cmdstanpy-1.2.3-py3-none-any.whl (94 kB)\n",
      "\u001b[2K   \u001b[90m━━━━━━━━━━━━━━━━━━━━━━━━━━━━━━━━━━━━━━━━\u001b[0m \u001b[32m94.4/94.4 kB\u001b[0m \u001b[31m12.8 MB/s\u001b[0m eta \u001b[36m0:00:00\u001b[0m\n",
      "\u001b[?25hDownloading holidays-0.50-py3-none-any.whl (1.0 MB)\n",
      "\u001b[2K   \u001b[90m━━━━━━━━━━━━━━━━━━━━━━━━━━━━━━━━━━━━━━━━\u001b[0m \u001b[32m1.0/1.0 MB\u001b[0m \u001b[31m11.8 MB/s\u001b[0m eta \u001b[36m0:00:00\u001b[0m:00:01\u001b[0m\n",
      "\u001b[?25hDownloading stanio-0.5.0-py3-none-any.whl (8.0 kB)\n",
      "Installing collected packages: stanio, holidays, cmdstanpy, prophet\n",
      "Successfully installed cmdstanpy-1.2.3 holidays-0.50 prophet-1.1.5 stanio-0.5.0\n"
     ]
    }
   ],
   "source": [
    "!pip install prophet"
   ]
  },
  {
   "cell_type": "code",
   "execution_count": 1,
   "id": "522c1a36-722b-4b81-841c-295151e3492f",
   "metadata": {
    "tags": []
   },
   "outputs": [],
   "source": [
    "import boto3\n",
    "import pickle\n",
    "import matplotlib.pyplot as plt\n",
    "import pandas as pd\n",
    "from prophet import Prophet\n",
    "from prophet.plot import plot_plotly\n",
    "\n",
    "%matplotlib inline"
   ]
  },
  {
   "cell_type": "code",
   "execution_count": 2,
   "id": "23a44710-7281-4f44-8262-cffa39676ce5",
   "metadata": {
    "tags": []
   },
   "outputs": [],
   "source": [
    "#load from S3 and Unpickle\n",
    "\n",
    "name = 'waterloo_outflow_Prophet_model.pkl'\n",
    "remote_loc = f'Docking-Station-Model/{name}'\n",
    "local_loc = f'temp/{name}'\n",
    "\n",
    "bucket_name = 'tfl-cycle-data'\n",
    "s3 = boto3.client('s3')\n",
    "s3.download_file(bucket_name, remote_loc, local_loc)\n",
    "\n",
    "with open(local_loc, 'rb') as f:\n",
    "    outflow_model = pickle.load(f)"
   ]
  },
  {
   "cell_type": "code",
   "execution_count": 2,
   "id": "af2eb26c-f723-40a5-a40c-b33ab7aa2bbd",
   "metadata": {
    "tags": []
   },
   "outputs": [
    {
     "name": "stdout",
     "output_type": "stream",
     "text": [
      "CPU Usage:  2.7 %\n",
      "Memory Usage:  7.0 %\n",
      "Disk Usage:  64.7 %\n"
     ]
    }
   ],
   "source": [
    "import psutil\n",
    "import time\n",
    "\n",
    "# Function to print current resource usage\n",
    "def print_system_usage():\n",
    "    print(\"CPU Usage: \", psutil.cpu_percent(), \"%\")\n",
    "    print(\"Memory Usage: \", psutil.virtual_memory().percent, \"%\")\n",
    "    print(\"Disk Usage: \", psutil.disk_usage('/').percent, \"%\")\n",
    "\n",
    "# Monitor resource usage\n",
    "print_system_usage()"
   ]
  },
  {
   "cell_type": "code",
   "execution_count": 7,
   "id": "3bed76ad-6dbe-453a-a13f-198e20b45a1d",
   "metadata": {
    "tags": []
   },
   "outputs": [
    {
     "name": "stdout",
     "output_type": "stream",
     "text": [
      "CPU Usage:  16.3 %\n",
      "Memory Usage:  9.2 %\n",
      "Disk Usage:  64.7 %\n"
     ]
    }
   ],
   "source": [
    "future_outflow = outflow_model.make_future_dataframe(periods=10, freq='ME')\n",
    "print_system_usage()"
   ]
  },
  {
   "cell_type": "code",
   "execution_count": null,
   "id": "fce8b4af-1778-473e-9e17-7c241ad6da85",
   "metadata": {
    "tags": []
   },
   "outputs": [],
   "source": [
    "outflow_forecast = outflow_model.predict(future_outflow)"
   ]
  },
  {
   "cell_type": "code",
   "execution_count": 1,
   "id": "48134bdc-6d5c-49cc-b133-6aeedeb7c87b",
   "metadata": {
    "tags": []
   },
   "outputs": [
    {
     "ename": "NameError",
     "evalue": "name 'print_system_usage' is not defined",
     "output_type": "error",
     "traceback": [
      "\u001b[0;31m---------------------------------------------------------------------------\u001b[0m",
      "\u001b[0;31mNameError\u001b[0m                                 Traceback (most recent call last)",
      "Cell \u001b[0;32mIn[1], line 1\u001b[0m\n\u001b[0;32m----> 1\u001b[0m \u001b[43mprint_system_usage\u001b[49m()\n",
      "\u001b[0;31mNameError\u001b[0m: name 'print_system_usage' is not defined"
     ]
    }
   ],
   "source": [
    "print_system_usage()"
   ]
  }
 ],
 "metadata": {
  "kernelspec": {
   "display_name": "conda_python3",
   "language": "python",
   "name": "conda_python3"
  },
  "language_info": {
   "codemirror_mode": {
    "name": "ipython",
    "version": 3
   },
   "file_extension": ".py",
   "mimetype": "text/x-python",
   "name": "python",
   "nbconvert_exporter": "python",
   "pygments_lexer": "ipython3",
   "version": "3.10.14"
  }
 },
 "nbformat": 4,
 "nbformat_minor": 5
}
