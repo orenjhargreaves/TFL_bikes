{
 "cells": [
  {
   "cell_type": "code",
   "execution_count": 2,
   "id": "e0a7e2eb-0a56-4a40-8cc9-9cf7b49c5d39",
   "metadata": {
    "tags": []
   },
   "outputs": [
    {
     "name": "stdout",
     "output_type": "stream",
     "text": [
      "Requirement already satisfied: prophet in /home/ec2-user/anaconda3/envs/python3/lib/python3.10/site-packages (1.1.5)\n",
      "Requirement already satisfied: cmdstanpy>=1.0.4 in /home/ec2-user/anaconda3/envs/python3/lib/python3.10/site-packages (from prophet) (1.2.3)\n",
      "Requirement already satisfied: numpy>=1.15.4 in /home/ec2-user/anaconda3/envs/python3/lib/python3.10/site-packages (from prophet) (1.22.4)\n",
      "Requirement already satisfied: matplotlib>=2.0.0 in /home/ec2-user/anaconda3/envs/python3/lib/python3.10/site-packages (from prophet) (3.8.3)\n",
      "Requirement already satisfied: pandas>=1.0.4 in /home/ec2-user/anaconda3/envs/python3/lib/python3.10/site-packages (from prophet) (2.2.1)\n",
      "Requirement already satisfied: holidays>=0.25 in /home/ec2-user/anaconda3/envs/python3/lib/python3.10/site-packages (from prophet) (0.50)\n",
      "Requirement already satisfied: tqdm>=4.36.1 in /home/ec2-user/anaconda3/envs/python3/lib/python3.10/site-packages (from prophet) (4.66.2)\n",
      "Requirement already satisfied: importlib-resources in /home/ec2-user/anaconda3/envs/python3/lib/python3.10/site-packages (from prophet) (6.4.0)\n",
      "Requirement already satisfied: stanio<2.0.0,>=0.4.0 in /home/ec2-user/anaconda3/envs/python3/lib/python3.10/site-packages (from cmdstanpy>=1.0.4->prophet) (0.5.0)\n",
      "Requirement already satisfied: python-dateutil in /home/ec2-user/anaconda3/envs/python3/lib/python3.10/site-packages (from holidays>=0.25->prophet) (2.9.0)\n",
      "Requirement already satisfied: contourpy>=1.0.1 in /home/ec2-user/anaconda3/envs/python3/lib/python3.10/site-packages (from matplotlib>=2.0.0->prophet) (1.2.0)\n",
      "Requirement already satisfied: cycler>=0.10 in /home/ec2-user/anaconda3/envs/python3/lib/python3.10/site-packages (from matplotlib>=2.0.0->prophet) (0.12.1)\n",
      "Requirement already satisfied: fonttools>=4.22.0 in /home/ec2-user/anaconda3/envs/python3/lib/python3.10/site-packages (from matplotlib>=2.0.0->prophet) (4.50.0)\n",
      "Requirement already satisfied: kiwisolver>=1.3.1 in /home/ec2-user/anaconda3/envs/python3/lib/python3.10/site-packages (from matplotlib>=2.0.0->prophet) (1.4.5)\n",
      "Requirement already satisfied: packaging>=20.0 in /home/ec2-user/anaconda3/envs/python3/lib/python3.10/site-packages (from matplotlib>=2.0.0->prophet) (21.3)\n",
      "Requirement already satisfied: pillow>=8 in /home/ec2-user/anaconda3/envs/python3/lib/python3.10/site-packages (from matplotlib>=2.0.0->prophet) (10.2.0)\n",
      "Requirement already satisfied: pyparsing>=2.3.1 in /home/ec2-user/anaconda3/envs/python3/lib/python3.10/site-packages (from matplotlib>=2.0.0->prophet) (3.1.2)\n",
      "Requirement already satisfied: pytz>=2020.1 in /home/ec2-user/anaconda3/envs/python3/lib/python3.10/site-packages (from pandas>=1.0.4->prophet) (2024.1)\n",
      "Requirement already satisfied: tzdata>=2022.7 in /home/ec2-user/anaconda3/envs/python3/lib/python3.10/site-packages (from pandas>=1.0.4->prophet) (2024.1)\n",
      "Requirement already satisfied: six>=1.5 in /home/ec2-user/anaconda3/envs/python3/lib/python3.10/site-packages (from python-dateutil->holidays>=0.25->prophet) (1.16.0)\n"
     ]
    }
   ],
   "source": [
    "!pip install prophet"
   ]
  },
  {
   "cell_type": "code",
   "execution_count": 2,
   "id": "bde01871-3f07-41a0-bd82-5d9bb643f626",
   "metadata": {
    "tags": []
   },
   "outputs": [
    {
     "name": "stderr",
     "output_type": "stream",
     "text": [
      "Matplotlib is building the font cache; this may take a moment.\n"
     ]
    }
   ],
   "source": [
    "import boto3\n",
    "import pickle\n",
    "import matplotlib.pyplot as plt\n",
    "import pandas as pd\n",
    "from prophet import Prophet\n",
    "from prophet.plot import plot_plotly\n",
    "\n",
    "%matplotlib inline"
   ]
  },
  {
   "cell_type": "code",
   "execution_count": 2,
   "id": "ff8dd75a-9af0-49ff-b948-1e0e48ec5206",
   "metadata": {
    "tags": []
   },
   "outputs": [],
   "source": [
    "bucket_name = 'tfl-cycle-data'\n",
    "s3_file_path = 'Docking_station_data/Waterloo-Jan2016-Apr2024.pkl'\n",
    "local_file_path = 'temp/Waterloo-Jan2016-Apr2024.pkl'\n",
    "s3 = boto3.client('s3')\n",
    "\n",
    "s3.download_file(bucket_name, s3_file_path, local_file_path)"
   ]
  },
  {
   "cell_type": "code",
   "execution_count": 3,
   "id": "779f0827-771b-4fba-9ca6-6fd1f4762bba",
   "metadata": {
    "tags": []
   },
   "outputs": [],
   "source": [
    "with open(notebook_file_path, 'rb') as f:\n",
    "    waterloo_df = pickle.load(f)"
   ]
  },
  {
   "cell_type": "code",
   "execution_count": 4,
   "id": "17df43d6-e011-45c6-b69a-dc53058a488a",
   "metadata": {
    "tags": []
   },
   "outputs": [
    {
     "data": {
      "text/html": [
       "<div>\n",
       "<style scoped>\n",
       "    .dataframe tbody tr th:only-of-type {\n",
       "        vertical-align: middle;\n",
       "    }\n",
       "\n",
       "    .dataframe tbody tr th {\n",
       "        vertical-align: top;\n",
       "    }\n",
       "\n",
       "    .dataframe thead th {\n",
       "        text-align: right;\n",
       "    }\n",
       "</style>\n",
       "<table border=\"1\" class=\"dataframe\">\n",
       "  <thead>\n",
       "    <tr style=\"text-align: right;\">\n",
       "      <th></th>\n",
       "      <th>Rental ID</th>\n",
       "      <th>Start Date</th>\n",
       "      <th>Start Station Name</th>\n",
       "      <th>End Date</th>\n",
       "      <th>End Station Name</th>\n",
       "    </tr>\n",
       "  </thead>\n",
       "  <tbody>\n",
       "    <tr>\n",
       "      <th>0</th>\n",
       "      <td>50755276</td>\n",
       "      <td>2016-10-01 08:41:00</td>\n",
       "      <td>William IV Street, Strand</td>\n",
       "      <td>2016-10-01 08:47:00</td>\n",
       "      <td>Waterloo Station 3, Waterloo</td>\n",
       "    </tr>\n",
       "    <tr>\n",
       "      <th>1</th>\n",
       "      <td>50755420</td>\n",
       "      <td>2016-10-01 09:05:00</td>\n",
       "      <td>Bermondsey Street, Bermondsey</td>\n",
       "      <td>2016-10-01 09:15:00</td>\n",
       "      <td>Waterloo Station 3, Waterloo</td>\n",
       "    </tr>\n",
       "    <tr>\n",
       "      <th>2</th>\n",
       "      <td>50755598</td>\n",
       "      <td>2016-10-01 09:28:00</td>\n",
       "      <td>Lollard Street, Vauxhall</td>\n",
       "      <td>2016-10-01 09:36:00</td>\n",
       "      <td>Waterloo Station 3, Waterloo</td>\n",
       "    </tr>\n",
       "    <tr>\n",
       "      <th>3</th>\n",
       "      <td>50755603</td>\n",
       "      <td>2016-10-01 09:28:00</td>\n",
       "      <td>Lollard Street, Vauxhall</td>\n",
       "      <td>2016-10-01 09:36:00</td>\n",
       "      <td>Waterloo Station 3, Waterloo</td>\n",
       "    </tr>\n",
       "    <tr>\n",
       "      <th>4</th>\n",
       "      <td>50756101</td>\n",
       "      <td>2016-10-01 10:12:00</td>\n",
       "      <td>Waterloo Station 3, Waterloo</td>\n",
       "      <td>2016-10-01 10:27:00</td>\n",
       "      <td>Braham Street, Aldgate</td>\n",
       "    </tr>\n",
       "  </tbody>\n",
       "</table>\n",
       "</div>"
      ],
      "text/plain": [
       "   Rental ID          Start Date             Start Station Name  \\\n",
       "0   50755276 2016-10-01 08:41:00      William IV Street, Strand   \n",
       "1   50755420 2016-10-01 09:05:00  Bermondsey Street, Bermondsey   \n",
       "2   50755598 2016-10-01 09:28:00       Lollard Street, Vauxhall   \n",
       "3   50755603 2016-10-01 09:28:00       Lollard Street, Vauxhall   \n",
       "4   50756101 2016-10-01 10:12:00   Waterloo Station 3, Waterloo   \n",
       "\n",
       "             End Date              End Station Name  \n",
       "0 2016-10-01 08:47:00  Waterloo Station 3, Waterloo  \n",
       "1 2016-10-01 09:15:00  Waterloo Station 3, Waterloo  \n",
       "2 2016-10-01 09:36:00  Waterloo Station 3, Waterloo  \n",
       "3 2016-10-01 09:36:00  Waterloo Station 3, Waterloo  \n",
       "4 2016-10-01 10:27:00        Braham Street, Aldgate  "
      ]
     },
     "execution_count": 4,
     "metadata": {},
     "output_type": "execute_result"
    }
   ],
   "source": [
    "waterloo_df.head()"
   ]
  },
  {
   "cell_type": "code",
   "execution_count": 5,
   "id": "b025d6bc-1467-498f-adc0-e6cfc26d90ed",
   "metadata": {
    "tags": []
   },
   "outputs": [],
   "source": [
    "waterloo_df_out = waterloo_df[waterloo_df['Start Station Name'] == 'Waterloo Station 3, Waterloo']\n",
    "waterloo_df_out.set_index('Start Date', inplace=True)\n",
    "rentals_5min = waterloo_df_out.resample('5min').size().reset_index(name='Rentals')"
   ]
  },
  {
   "cell_type": "code",
   "execution_count": 6,
   "id": "d33d20de-77d9-48af-b777-5fe7de9d09e2",
   "metadata": {
    "tags": []
   },
   "outputs": [
    {
     "data": {
      "text/html": [
       "<div>\n",
       "<style scoped>\n",
       "    .dataframe tbody tr th:only-of-type {\n",
       "        vertical-align: middle;\n",
       "    }\n",
       "\n",
       "    .dataframe tbody tr th {\n",
       "        vertical-align: top;\n",
       "    }\n",
       "\n",
       "    .dataframe thead th {\n",
       "        text-align: right;\n",
       "    }\n",
       "</style>\n",
       "<table border=\"1\" class=\"dataframe\">\n",
       "  <thead>\n",
       "    <tr style=\"text-align: right;\">\n",
       "      <th></th>\n",
       "      <th>ds</th>\n",
       "      <th>y</th>\n",
       "    </tr>\n",
       "  </thead>\n",
       "  <tbody>\n",
       "    <tr>\n",
       "      <th>0</th>\n",
       "      <td>2015-01-02 01:45:00</td>\n",
       "      <td>1</td>\n",
       "    </tr>\n",
       "    <tr>\n",
       "      <th>1</th>\n",
       "      <td>2015-01-02 01:50:00</td>\n",
       "      <td>0</td>\n",
       "    </tr>\n",
       "    <tr>\n",
       "      <th>2</th>\n",
       "      <td>2015-01-02 01:55:00</td>\n",
       "      <td>0</td>\n",
       "    </tr>\n",
       "    <tr>\n",
       "      <th>3</th>\n",
       "      <td>2015-01-02 02:00:00</td>\n",
       "      <td>0</td>\n",
       "    </tr>\n",
       "    <tr>\n",
       "      <th>4</th>\n",
       "      <td>2015-01-02 02:05:00</td>\n",
       "      <td>0</td>\n",
       "    </tr>\n",
       "  </tbody>\n",
       "</table>\n",
       "</div>"
      ],
      "text/plain": [
       "                   ds  y\n",
       "0 2015-01-02 01:45:00  1\n",
       "1 2015-01-02 01:50:00  0\n",
       "2 2015-01-02 01:55:00  0\n",
       "3 2015-01-02 02:00:00  0\n",
       "4 2015-01-02 02:05:00  0"
      ]
     },
     "execution_count": 6,
     "metadata": {},
     "output_type": "execute_result"
    }
   ],
   "source": [
    "rentals_5min_reformat = rentals_5min[['Start Date', 'Rentals']].rename(columns={'Start Date': 'ds', 'Rentals': 'y'})\n",
    "rentals_5min_reformat.head()"
   ]
  },
  {
   "cell_type": "code",
   "execution_count": 7,
   "id": "e7d1cab9-3363-4578-bc26-a4855bee4ad9",
   "metadata": {
    "tags": []
   },
   "outputs": [],
   "source": [
    "# rentals_hourly = rentals_5min_reformat.resample('H', on='ds').sum().reset_index() # need to do this for it to run on current instance size\n",
    "# rentals_hourly.head()"
   ]
  },
  {
   "cell_type": "code",
   "execution_count": 8,
   "id": "9472e509-0784-4439-be9a-1a3c81644c3b",
   "metadata": {
    "tags": []
   },
   "outputs": [],
   "source": [
    "# Model for outflow\n",
    "outflow_model = Prophet()\n"
   ]
  },
  {
   "cell_type": "code",
   "execution_count": 9,
   "id": "2b190225-23ca-406e-b8da-6c3f6d3f92ad",
   "metadata": {
    "tags": []
   },
   "outputs": [
    {
     "name": "stderr",
     "output_type": "stream",
     "text": [
      "17:11:12 - cmdstanpy - INFO - Chain [1] start processing\n",
      "17:20:37 - cmdstanpy - INFO - Chain [1] done processing\n"
     ]
    },
    {
     "data": {
      "text/plain": [
       "<prophet.forecaster.Prophet at 0x7f11e25abe50>"
      ]
     },
     "execution_count": 9,
     "metadata": {},
     "output_type": "execute_result"
    }
   ],
   "source": [
    "outflow_model.fit(rentals_5min_reformat)"
   ]
  },
  {
   "cell_type": "code",
   "execution_count": 3,
   "id": "692c9f89-73b0-4fdb-b167-afe060303df3",
   "metadata": {
    "tags": []
   },
   "outputs": [
    {
     "ename": "NameError",
     "evalue": "name 'outflow_model' is not defined",
     "output_type": "error",
     "traceback": [
      "\u001b[0;31m---------------------------------------------------------------------------\u001b[0m",
      "\u001b[0;31mNameError\u001b[0m                                 Traceback (most recent call last)",
      "Cell \u001b[0;32mIn[3], line 7\u001b[0m\n\u001b[1;32m      4\u001b[0m local_loc \u001b[38;5;241m=\u001b[39m \u001b[38;5;124mf\u001b[39m\u001b[38;5;124m'\u001b[39m\u001b[38;5;124mtemp/\u001b[39m\u001b[38;5;132;01m{\u001b[39;00mname\u001b[38;5;132;01m}\u001b[39;00m\u001b[38;5;124m'\u001b[39m\n\u001b[1;32m      6\u001b[0m \u001b[38;5;28;01mwith\u001b[39;00m \u001b[38;5;28mopen\u001b[39m(local_loc, \u001b[38;5;124m'\u001b[39m\u001b[38;5;124mwb\u001b[39m\u001b[38;5;124m'\u001b[39m) \u001b[38;5;28;01mas\u001b[39;00m f:\n\u001b[0;32m----> 7\u001b[0m     pickle\u001b[38;5;241m.\u001b[39mdump(\u001b[43moutflow_model\u001b[49m, f)\n\u001b[1;32m      9\u001b[0m bucket_name \u001b[38;5;241m=\u001b[39m \u001b[38;5;124m'\u001b[39m\u001b[38;5;124mtfl-cycle-data\u001b[39m\u001b[38;5;124m'\u001b[39m\n\u001b[1;32m     10\u001b[0m s3 \u001b[38;5;241m=\u001b[39m boto3\u001b[38;5;241m.\u001b[39mclient(\u001b[38;5;124m'\u001b[39m\u001b[38;5;124ms3\u001b[39m\u001b[38;5;124m'\u001b[39m)\n",
      "\u001b[0;31mNameError\u001b[0m: name 'outflow_model' is not defined"
     ]
    }
   ],
   "source": [
    "# pickle the model and save to S3\n",
    "name = 'waterloo_outflow_Prophet_model.pkl'\n",
    "remote_loc = f'Docking-Station-Model/{name}'\n",
    "local_loc = f'temp/{name}'\n",
    "\n",
    "with open(local_loc, 'wb') as f:\n",
    "    pickle.dump(outflow_model, f)\n",
    "    \n",
    "bucket_name = 'tfl-cycle-data'\n",
    "s3 = boto3.client('s3')\n",
    "s3.upload_file(local_loc, bucket_name, remote_loc)"
   ]
  },
  {
   "cell_type": "code",
   "execution_count": null,
   "id": "310a4e34-3a25-4709-9bae-e1a9b596e572",
   "metadata": {},
   "outputs": [],
   "source": []
  },
  {
   "cell_type": "code",
   "execution_count": 4,
   "id": "db3abebe-e78b-4ef3-9a7e-652b31278861",
   "metadata": {
    "tags": []
   },
   "outputs": [],
   "source": [
    "#load from S3 and Unpickle\n",
    "\n",
    "name = 'waterloo_outflow_Prophet_model.pkl'\n",
    "remote_loc = f'Docking-Station-Model/{name}'\n",
    "local_loc = f'temp/{name}'\n",
    "\n",
    "bucket_name = 'tfl-cycle-data'\n",
    "s3 = boto3.client('s3')\n",
    "s3.download_file(bucket_name, remote_loc, local_loc)\n",
    "\n",
    "with open(local_loc, 'rb') as f:\n",
    "    outflow_model = pickle.load(f)"
   ]
  },
  {
   "cell_type": "code",
   "execution_count": 5,
   "id": "d7c7a389-3fcf-4fe5-b021-ef3e5451daa0",
   "metadata": {
    "tags": []
   },
   "outputs": [],
   "source": [
    "future_outflow = outflow_model.make_future_dataframe(periods=1, freq='h')"
   ]
  },
  {
   "cell_type": "code",
   "execution_count": null,
   "id": "c8023e8b-203c-46f3-9be8-7e0df4c8a334",
   "metadata": {
    "tags": []
   },
   "outputs": [],
   "source": [
    "outflow_forecast = outflow_model.predict(future_outflow)"
   ]
  },
  {
   "cell_type": "code",
   "execution_count": null,
   "id": "a52d485f-ed86-45eb-b271-9c8c834ead06",
   "metadata": {
    "tags": []
   },
   "outputs": [],
   "source": [
    "# Plot outflow forecast\n",
    "fig_outflow = outflow_model.plot(outflow_forecast)\n",
    "fig_outflow.show()"
   ]
  },
  {
   "cell_type": "code",
   "execution_count": null,
   "id": "0cb20d48-c22e-49b0-b4ab-c7b6ead3e59b",
   "metadata": {
    "tags": []
   },
   "outputs": [],
   "source": [
    "# Filter the forecast to include only the future dates\n",
    "future_forecast = outflow_forecast[outflow_forecast['ds'] > rentals_hourly['ds'].max()]\n",
    "\n",
    "# Plot the forecasted data\n",
    "plt.figure(figsize=(10, 6))\n",
    "plt.plot(future_forecast['ds'], future_forecast['yhat'], label='Forecasted Outflow')\n",
    "plt.fill_between(future_forecast['ds'], future_forecast['yhat_lower'], future_forecast['yhat_upper'], color='lightblue', alpha=0.5)\n",
    "plt.title('Forecasted Outflow')\n",
    "plt.xlabel('Date')\n",
    "plt.ylabel('Outflow')\n",
    "plt.legend()\n",
    "plt.show()"
   ]
  },
  {
   "cell_type": "code",
   "execution_count": null,
   "id": "1f7ab3bd-d1ee-4321-93ce-20db3c5660c0",
   "metadata": {},
   "outputs": [],
   "source": []
  }
 ],
 "metadata": {
  "kernelspec": {
   "display_name": "conda_python3",
   "language": "python",
   "name": "conda_python3"
  },
  "language_info": {
   "codemirror_mode": {
    "name": "ipython",
    "version": 3
   },
   "file_extension": ".py",
   "mimetype": "text/x-python",
   "name": "python",
   "nbconvert_exporter": "python",
   "pygments_lexer": "ipython3",
   "version": "3.10.14"
  }
 },
 "nbformat": 4,
 "nbformat_minor": 5
}
